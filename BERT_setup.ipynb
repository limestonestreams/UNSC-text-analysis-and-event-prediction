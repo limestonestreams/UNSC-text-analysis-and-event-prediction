{
  "nbformat": 4,
  "nbformat_minor": 0,
  "metadata": {
    "colab": {
      "name": "BERT_setup.ipynb",
      "provenance": [],
      "collapsed_sections": [],
      "authorship_tag": "ABX9TyMOvpIuVJW/m8ohzr+UcD0C",
      "include_colab_link": true
    },
    "kernelspec": {
      "name": "python3",
      "display_name": "Python 3"
    }
  },
  "cells": [
    {
      "cell_type": "markdown",
      "metadata": {
        "id": "view-in-github",
        "colab_type": "text"
      },
      "source": [
        "<a href=\"https://colab.research.google.com/github/limestonestreams/thesis/blob/master/BERT_setup.ipynb\" target=\"_parent\"><img src=\"https://colab.research.google.com/assets/colab-badge.svg\" alt=\"Open In Colab\"/></a>"
      ]
    },
    {
      "cell_type": "markdown",
      "metadata": {
        "id": "SOBq4WfZNaiW",
        "colab_type": "text"
      },
      "source": [
        "To wrap output text, applies to every cell. (from https://stackoverflow.com/questions/58890109/line-wrapping-in-collaboratory-google-results)"
      ]
    },
    {
      "cell_type": "code",
      "metadata": {
        "id": "_Y1s8WIWNaO8",
        "colab_type": "code",
        "colab": {}
      },
      "source": [
        "from IPython.display import HTML, display\n",
        "\n",
        "def set_css():\n",
        "  display(HTML('''\n",
        "  <style>\n",
        "    pre {\n",
        "        white-space: pre-wrap;\n",
        "    }\n",
        "  </style>\n",
        "  '''))\n",
        "get_ipython().events.register('pre_run_cell', set_css)"
      ],
      "execution_count": null,
      "outputs": []
    },
    {
      "cell_type": "markdown",
      "metadata": {
        "id": "q5cGTF2aT0Cp",
        "colab_type": "text"
      },
      "source": [
        "Mounting google drive:"
      ]
    },
    {
      "cell_type": "code",
      "metadata": {
        "id": "xgkYGCXWTu5T",
        "colab_type": "code",
        "colab": {
          "base_uri": "https://localhost:8080/",
          "height": 141
        },
        "outputId": "8d541aea-a814-442f-f192-6a455b613e65"
      },
      "source": [
        "from google.colab import drive\n",
        "drive.mount('/content/gdrive')"
      ],
      "execution_count": null,
      "outputs": [
        {
          "output_type": "display_data",
          "data": {
            "text/html": [
              "\n",
              "  <style>\n",
              "    pre {\n",
              "        white-space: pre-wrap;\n",
              "    }\n",
              "  </style>\n",
              "  "
            ],
            "text/plain": [
              "<IPython.core.display.HTML object>"
            ]
          },
          "metadata": {
            "tags": []
          }
        },
        {
          "output_type": "stream",
          "text": [
            "Go to this URL in a browser: https://accounts.google.com/o/oauth2/auth?client_id=947318989803-6bn6qk8qdgf4n4g3pfee6491hc0brc4i.apps.googleusercontent.com&redirect_uri=urn%3aietf%3awg%3aoauth%3a2.0%3aoob&scope=email%20https%3a%2f%2fwww.googleapis.com%2fauth%2fdocs.test%20https%3a%2f%2fwww.googleapis.com%2fauth%2fdrive%20https%3a%2f%2fwww.googleapis.com%2fauth%2fdrive.photos.readonly%20https%3a%2f%2fwww.googleapis.com%2fauth%2fpeopleapi.readonly&response_type=code\n",
            "\n",
            "Enter your authorization code:\n",
            "4/3wHPvbhif1y1LKlNh5at2oP7ltCU69_X_etQMgmeO3t_n5Z8twvmoh4\n",
            "Mounted at /content/gdrive\n"
          ],
          "name": "stdout"
        }
      ]
    },
    {
      "cell_type": "markdown",
      "metadata": {
        "id": "z3qShKRkMnPk",
        "colab_type": "text"
      },
      "source": [
        "Importing the UNSC text data and the UCDP event dataset:"
      ]
    },
    {
      "cell_type": "code",
      "metadata": {
        "id": "OmZMuWiyTgnd",
        "colab_type": "code",
        "colab": {
          "base_uri": "https://localhost:8080/",
          "height": 69
        },
        "outputId": "c3082143-7136-4df5-8d2b-f776dead7cbb"
      },
      "source": [
        "import feather\n",
        "import pandas as pd\n",
        "import numpy as np\n",
        "\n",
        "docs = feather.read_dataframe('/content/gdrive/My Drive/Colab files/speeches.feather')\n",
        "\n",
        "events = pd.read_csv('/content/gdrive/My Drive/Colab files/ged201.csv')"
      ],
      "execution_count": null,
      "outputs": [
        {
          "output_type": "display_data",
          "data": {
            "text/html": [
              "\n",
              "  <style>\n",
              "    pre {\n",
              "        white-space: pre-wrap;\n",
              "    }\n",
              "  </style>\n",
              "  "
            ],
            "text/plain": [
              "<IPython.core.display.HTML object>"
            ]
          },
          "metadata": {
            "tags": []
          }
        },
        {
          "output_type": "stream",
          "text": [
            "/usr/local/lib/python3.6/dist-packages/IPython/core/interactiveshell.py:2718: DtypeWarning: Columns (47) have mixed types.Specify dtype option on import or set low_memory=False.\n",
            "  interactivity=interactivity, compiler=compiler, result=result)\n"
          ],
          "name": "stderr"
        }
      ]
    },
    {
      "cell_type": "code",
      "metadata": {
        "id": "jisiBreEMd4y",
        "colab_type": "code",
        "colab": {
          "base_uri": "https://localhost:8080/",
          "height": 17
        },
        "outputId": "fdfdd550-5c2c-46ac-828a-0e775cc82943"
      },
      "source": [
        "# UNSC speeches\n",
        "\n",
        "#keeping only relevant columns\n",
        "docs = docs[['topic', 'date', 'text']]\n",
        "#adding key column to merge text on\n",
        "docs['date'] = docs['date'].astype(str)\n",
        "docs['topic'] = docs['topic'].astype(str)\n",
        "docs['key'] = docs['date'] + docs['topic']\n",
        "#merging on key column so that each text cell contains all speech on that topic that day\n",
        "docs = docs.groupby('key').agg({'date': 'first', 'topic': 'first', 'text': r'\\n\\n'.join}).reset_index(drop = True)\n",
        "#dropping key column\n",
        "docs = docs[['date', 'topic', 'text']]\n",
        "#changing dtype to datetime\n",
        "docs['date'] = pd.to_datetime(docs['date'])\n",
        "docs = docs.sort_values(by = 'date').reset_index(drop = True)\n",
        "\n",
        "# UCDP events dataset\n",
        "\n",
        "events['date_start'] = pd.to_datetime(events['date_start'])\n",
        "#events = events[['active_year', 'type_of_violence', 'country', 'date_start', 'best']]\n",
        "events = events[['country', 'date_start']]\n",
        "#creating new column which marks that there is an event on that day\n",
        "events['event'] = 1"
      ],
      "execution_count": null,
      "outputs": [
        {
          "output_type": "display_data",
          "data": {
            "text/html": [
              "\n",
              "  <style>\n",
              "    pre {\n",
              "        white-space: pre-wrap;\n",
              "    }\n",
              "  </style>\n",
              "  "
            ],
            "text/plain": [
              "<IPython.core.display.HTML object>"
            ]
          },
          "metadata": {
            "tags": []
          }
        }
      ]
    },
    {
      "cell_type": "markdown",
      "metadata": {
        "id": "RWUMIBssRBdP",
        "colab_type": "text"
      },
      "source": [
        "Selecting the conflicts that appear in both datasets:"
      ]
    },
    {
      "cell_type": "code",
      "metadata": {
        "id": "nLc-x6dLRDRM",
        "colab_type": "code",
        "colab": {
          "base_uri": "https://localhost:8080/",
          "height": 364
        },
        "outputId": "ccbedf2b-bbe4-414d-f67c-0946156a6707"
      },
      "source": [
        "# Changing labels in my UNSC dataset to match the ones in the UCDP dataset:\n",
        "docs['topic'] = docs['topic'].astype(str)\n",
        "docs.loc[docs['topic'] == 'Bougainville', 'topic'] = 'Papua New Guinea'\n",
        "docs.loc[docs['topic'] == 'Democratic Republic Of The Congo', 'topic'] = 'DR Congo (Zaire)'\n",
        "docs.loc[docs['topic'] == 'Bosnia And Herzegovina', 'topic'] = 'Bosnia-Herzegovina'\n",
        "docs.loc[docs['topic'] == \"Code D'Ivoire\", 'topic'] = 'Ivory Coast'\n",
        "docs.loc[docs['topic'] == \"The Former Yugoslav Republic Of Macedonia\", 'topic'] = 'Macedonia, FYR'\n",
        "docs.loc[docs['topic'] == \"Myanmar\", 'topic'] = 'Myanmar (Burma)'\n",
        "docs.loc[docs['topic'] == \"Yugoslavia\", 'topic'] = 'Serbia (Yugoslavia)'\n",
        "docs.loc[docs['topic'] == \"Zimbabwe\", 'topic'] = 'Zimbabwe (Rhodesia)'\n",
        "docs.loc[docs['topic'] == \"Venezuela (Bolivarian Republic Of)\", 'topic'] = 'Venezuela'\n",
        "\n",
        "ucdp_countries = events['country'].value_counts().index.values.astype(str)\n",
        "print(sorted(ucdp_countries))\n",
        "\n",
        "unsc_topics = docs['topic'].value_counts().index.values.astype(str)\n",
        "print(sorted(unsc_topics))\n",
        "\n",
        "conflicts = set(ucdp_countries) & set(unsc_topics)\n",
        "print(sorted(conflicts))"
      ],
      "execution_count": null,
      "outputs": [
        {
          "output_type": "display_data",
          "data": {
            "text/html": [
              "\n",
              "  <style>\n",
              "    pre {\n",
              "        white-space: pre-wrap;\n",
              "    }\n",
              "  </style>\n",
              "  "
            ],
            "text/plain": [
              "<IPython.core.display.HTML object>"
            ]
          },
          "metadata": {
            "tags": []
          }
        },
        {
          "output_type": "stream",
          "text": [
            "['Afghanistan', 'Albania', 'Algeria', 'Angola', 'Argentina', 'Armenia', 'Australia', 'Azerbaijan', 'Bahrain', 'Bangladesh', 'Belgium', 'Benin', 'Bhutan', 'Bolivia', 'Bosnia-Herzegovina', 'Botswana', 'Brazil', 'Burkina Faso', 'Burundi', 'Cambodia (Kampuchea)', 'Cameroon', 'Canada', 'Central African Republic', 'Chad', 'China', 'Colombia', 'Comoros', 'Congo', 'Croatia', 'DR Congo (Zaire)', 'Djibouti', 'Ecuador', 'Egypt', 'El Salvador', 'Eritrea', 'Ethiopia', 'France', 'Gambia', 'Georgia', 'Germany', 'Ghana', 'Guatemala', 'Guinea', 'Guinea-Bissau', 'Guyana', 'Haiti', 'Honduras', 'India', 'Indonesia', 'Iran', 'Iraq', 'Israel', 'Italy', 'Ivory Coast', 'Jamaica', 'Jordan', 'Kenya', 'Kingdom of eSwatini (Swaziland)', 'Kuwait', 'Kyrgyzstan', 'Laos', 'Lebanon', 'Lesotho', 'Liberia', 'Libya', 'Macedonia, FYR', 'Madagascar (Malagasy)', 'Malaysia', 'Mali', 'Malta', 'Mauritania', 'Mexico', 'Moldova', 'Morocco', 'Mozambique', 'Myanmar (Burma)', 'Namibia', 'Nepal', 'Netherlands', 'Nicaragua', 'Niger', 'Nigeria', 'Pakistan', 'Panama', 'Papua New Guinea', 'Paraguay', 'Peru', 'Philippines', 'Qatar', 'Romania', 'Russia (Soviet Union)', 'Rwanda', 'Saudi Arabia', 'Senegal', 'Serbia (Yugoslavia)', 'Sierra Leone', 'Solomon Islands', 'Somalia', 'South Africa', 'South Sudan', 'Spain', 'Sri Lanka', 'Sudan', 'Sweden', 'Syria', 'Tajikistan', 'Tanzania', 'Thailand', 'Togo', 'Trinidad and Tobago', 'Tunisia', 'Turkey', 'Uganda', 'Ukraine', 'United Arab Emirates', 'United Kingdom', 'United States of America', 'Uzbekistan', 'Venezuela', 'Yemen (North Yemen)', 'Zambia', 'Zimbabwe (Rhodesia)']\n",
            "['Afghanistan', 'Albania', 'Angola', 'Balkans', 'Bosnia-Herzegovina', 'Burundi', 'Central African Republic', 'Chad-Sudan', 'Colombia', \"Cote D'Ivoire\", 'Croatia', 'Cuba-USA', 'Cyprus', 'DR Congo (Zaire)', \"Democratic People'S Republic Of Korea\", 'El Salvador', 'Eritrea-Djibouti', 'Eritrea-Ethiopia', 'Ethiopia-Sudan', 'Georgia', 'Guatemala', 'Guinea-Bissau', 'Haiti', 'Honduras', 'Iraq', 'Iraq-Kuwait', 'Israel-Syrian Arab Republic', 'Kosovo', 'Lebanon', 'Liberia', 'Libyan Arab Jamahiriya', 'Macedonia, FYR', 'Mali', 'Middle East', 'Myanmar (Burma)', 'NATO-FRY-China', 'Nauru', 'Papua New Guinea', 'Rwanda', 'Serbia (Yugoslavia)', 'Sierra Leone', 'Somalia', 'Somalia, Uganda', 'Sudan', 'Syrian Arab Republic', 'Tajikistan', 'Timor-Leste', 'Tuvalu', 'UK-Russia', 'Uganda', 'Ukraine', 'Venezuela']\n",
            "['Afghanistan', 'Albania', 'Angola', 'Bosnia-Herzegovina', 'Burundi', 'Central African Republic', 'Colombia', 'Croatia', 'DR Congo (Zaire)', 'El Salvador', 'Georgia', 'Guatemala', 'Guinea-Bissau', 'Haiti', 'Honduras', 'Iraq', 'Lebanon', 'Liberia', 'Macedonia, FYR', 'Mali', 'Myanmar (Burma)', 'Papua New Guinea', 'Rwanda', 'Serbia (Yugoslavia)', 'Sierra Leone', 'Somalia', 'Sudan', 'Tajikistan', 'Uganda', 'Ukraine', 'Venezuela']\n"
          ],
          "name": "stdout"
        }
      ]
    },
    {
      "cell_type": "markdown",
      "metadata": {
        "id": "-zYtVjVLZZDe",
        "colab_type": "text"
      },
      "source": [
        "Subsetting both datasets so that they contain only the matched conflicts in the 'conflicts' list:"
      ]
    },
    {
      "cell_type": "code",
      "metadata": {
        "id": "Sm7l6mtOZnZq",
        "colab_type": "code",
        "colab": {
          "base_uri": "https://localhost:8080/",
          "height": 17
        },
        "outputId": "87e432c0-91f0-4293-d39a-277f21dbb817"
      },
      "source": [
        "docs = docs[docs['topic'].isin(conflicts)]\n",
        "\n",
        "events = events[events['country'].isin(conflicts)]"
      ],
      "execution_count": null,
      "outputs": [
        {
          "output_type": "display_data",
          "data": {
            "text/html": [
              "\n",
              "  <style>\n",
              "    pre {\n",
              "        white-space: pre-wrap;\n",
              "    }\n",
              "  </style>\n",
              "  "
            ],
            "text/plain": [
              "<IPython.core.display.HTML object>"
            ]
          },
          "metadata": {
            "tags": []
          }
        }
      ]
    },
    {
      "cell_type": "markdown",
      "metadata": {
        "id": "5_S2eTGc1rYZ",
        "colab_type": "text"
      },
      "source": [
        "Turning text into lowercase."
      ]
    },
    {
      "cell_type": "code",
      "metadata": {
        "id": "7AwnCCe21zns",
        "colab_type": "code",
        "colab": {
          "base_uri": "https://localhost:8080/",
          "height": 17
        },
        "outputId": "491c0d0f-7e3a-4fc0-a5dd-01902ee2e035"
      },
      "source": [
        "#This line also removes non-alphanumeric characters, but BERT doesn't actually need that\n",
        "#docs['text'] = docs['text'].replace('[^a-zA-Z0-9 ]', ' ', regex = True).str.lower()\n",
        "\n",
        "docs['text'] = docs['text'].str.lower()"
      ],
      "execution_count": null,
      "outputs": [
        {
          "output_type": "display_data",
          "data": {
            "text/html": [
              "\n",
              "  <style>\n",
              "    pre {\n",
              "        white-space: pre-wrap;\n",
              "    }\n",
              "  </style>\n",
              "  "
            ],
            "text/plain": [
              "<IPython.core.display.HTML object>"
            ]
          },
          "metadata": {
            "tags": []
          }
        }
      ]
    },
    {
      "cell_type": "markdown",
      "metadata": {
        "id": "UxeXnMr__oI_",
        "colab_type": "text"
      },
      "source": [
        "Counting the number of words per day:"
      ]
    },
    {
      "cell_type": "code",
      "metadata": {
        "id": "9_-kuu8c_Gf4",
        "colab_type": "code",
        "colab": {
          "base_uri": "https://localhost:8080/",
          "height": 17
        },
        "outputId": "0aa10379-69b5-46e5-dcd9-9279aef59d2b"
      },
      "source": [
        "docs['word_count'] = docs['text'].str.split().str.len()"
      ],
      "execution_count": null,
      "outputs": [
        {
          "output_type": "display_data",
          "data": {
            "text/html": [
              "\n",
              "  <style>\n",
              "    pre {\n",
              "        white-space: pre-wrap;\n",
              "    }\n",
              "  </style>\n",
              "  "
            ],
            "text/plain": [
              "<IPython.core.display.HTML object>"
            ]
          },
          "metadata": {
            "tags": []
          }
        }
      ]
    },
    {
      "cell_type": "markdown",
      "metadata": {
        "id": "KaDH-3kmRos6",
        "colab_type": "text"
      },
      "source": [
        "Adding column for whether that date had a meeting or not:"
      ]
    },
    {
      "cell_type": "code",
      "metadata": {
        "id": "jOmcajlMRrRF",
        "colab_type": "code",
        "colab": {
          "base_uri": "https://localhost:8080/",
          "height": 17
        },
        "outputId": "c3cfbcba-d1fa-45d3-8882-8839770084b3"
      },
      "source": [
        "docs['meeting'] = np.where(docs['word_count'] > 0, 1, 0)"
      ],
      "execution_count": null,
      "outputs": [
        {
          "output_type": "display_data",
          "data": {
            "text/html": [
              "\n",
              "  <style>\n",
              "    pre {\n",
              "        white-space: pre-wrap;\n",
              "    }\n",
              "  </style>\n",
              "  "
            ],
            "text/plain": [
              "<IPython.core.display.HTML object>"
            ]
          },
          "metadata": {
            "tags": []
          }
        }
      ]
    },
    {
      "cell_type": "markdown",
      "metadata": {
        "id": "UAQsBXg-ENMX",
        "colab_type": "text"
      },
      "source": [
        "Splitting both datasets into country-specific ones and merging based on dates into one dictionary:"
      ]
    },
    {
      "cell_type": "code",
      "metadata": {
        "id": "4fzWc09bETmK",
        "colab_type": "code",
        "colab": {
          "base_uri": "https://localhost:8080/",
          "height": 17
        },
        "outputId": "35cc59ff-2814-46e7-a57c-f4d2315b2675"
      },
      "source": [
        "from datetime import timedelta\n",
        "\n",
        "#initializing dictionaries\n",
        "docs_dict = {}\n",
        "events_dict = {}\n",
        "data_dict = {}\n",
        "\n",
        "for i in conflicts:\n",
        "    #creating docs specific to country\n",
        "    docs_dict[str(i).lower()] = docs[docs['topic'] == str(i)]\n",
        "    #creating events specific to country\n",
        "    events_dict[str(i).lower()] = events[events['country'] == str(i)]\n",
        "    #checking their time range\n",
        "    earliest_date = min(docs_dict[str(i).lower()]['date'])\n",
        "    latest_date = max(docs_dict[str(i).lower()]['date']) + timedelta(days = 7)\n",
        "    #initializing timerange to merge on\n",
        "    time_range = pd.date_range(start = earliest_date, end = latest_date)\n",
        "    time_range = pd.DataFrame(time_range)\n",
        "    time_range.columns = ['date']\n",
        "    #merging time_range with docs\n",
        "    data_dict[str(i).lower()] = pd.merge(time_range, \n",
        "                                         docs_dict[str(i).lower()], \n",
        "                                         on = 'date', \n",
        "                                         how = 'left').sort_values('date').reset_index(drop = True)  \n",
        "    #merging time_range with events \n",
        "    data_dict[str(i).lower()] = pd.merge(data_dict[str(i).lower()], \n",
        "                                         events_dict[str(i).lower()], \n",
        "                                         left_on = 'date', \n",
        "                                         right_on = 'date_start', \n",
        "                                         how = 'left').sort_values('date').reset_index(drop = True)\n",
        "    #removing superfluous columns\n",
        "    del data_dict[str(i).lower()]['date_start']\n",
        "    del data_dict[str(i).lower()]['country']  \n",
        "    #filling event column with 0 for dates when no event happened                                  \n",
        "    data_dict[str(i).lower()]['event'] = data_dict[str(i).lower()]['event'].fillna(0)                                       "
      ],
      "execution_count": null,
      "outputs": [
        {
          "output_type": "display_data",
          "data": {
            "text/html": [
              "\n",
              "  <style>\n",
              "    pre {\n",
              "        white-space: pre-wrap;\n",
              "    }\n",
              "  </style>\n",
              "  "
            ],
            "text/plain": [
              "<IPython.core.display.HTML object>"
            ]
          },
          "metadata": {
            "tags": []
          }
        }
      ]
    },
    {
      "cell_type": "code",
      "metadata": {
        "id": "Upqvz3fGrvoF",
        "colab_type": "code",
        "colab": {
          "base_uri": "https://localhost:8080/",
          "height": 415
        },
        "outputId": "7147564c-edcb-465d-b00f-8e761804542c"
      },
      "source": [
        "data_dict['dr congo (zaire)']"
      ],
      "execution_count": null,
      "outputs": [
        {
          "output_type": "display_data",
          "data": {
            "text/html": [
              "\n",
              "  <style>\n",
              "    pre {\n",
              "        white-space: pre-wrap;\n",
              "    }\n",
              "  </style>\n",
              "  "
            ],
            "text/plain": [
              "<IPython.core.display.HTML object>"
            ]
          },
          "metadata": {
            "tags": []
          }
        },
        {
          "output_type": "execute_result",
          "data": {
            "text/html": [
              "<div>\n",
              "<style scoped>\n",
              "    .dataframe tbody tr th:only-of-type {\n",
              "        vertical-align: middle;\n",
              "    }\n",
              "\n",
              "    .dataframe tbody tr th {\n",
              "        vertical-align: top;\n",
              "    }\n",
              "\n",
              "    .dataframe thead th {\n",
              "        text-align: right;\n",
              "    }\n",
              "</style>\n",
              "<table border=\"1\" class=\"dataframe\">\n",
              "  <thead>\n",
              "    <tr style=\"text-align: right;\">\n",
              "      <th></th>\n",
              "      <th>date</th>\n",
              "      <th>topic</th>\n",
              "      <th>text</th>\n",
              "      <th>word_count</th>\n",
              "      <th>meeting</th>\n",
              "      <th>event</th>\n",
              "    </tr>\n",
              "  </thead>\n",
              "  <tbody>\n",
              "    <tr>\n",
              "      <th>0</th>\n",
              "      <td>1996-11-15</td>\n",
              "      <td>DR Congo (Zaire)</td>\n",
              "      <td>allow me, at the outset,\\nto congratulate you ...</td>\n",
              "      <td>16209.0</td>\n",
              "      <td>1.0</td>\n",
              "      <td>1.0</td>\n",
              "    </tr>\n",
              "    <tr>\n",
              "      <th>1</th>\n",
              "      <td>1996-11-15</td>\n",
              "      <td>DR Congo (Zaire)</td>\n",
              "      <td>allow me, at the outset,\\nto congratulate you ...</td>\n",
              "      <td>16209.0</td>\n",
              "      <td>1.0</td>\n",
              "      <td>1.0</td>\n",
              "    </tr>\n",
              "    <tr>\n",
              "      <th>2</th>\n",
              "      <td>1996-11-16</td>\n",
              "      <td>NaN</td>\n",
              "      <td>NaN</td>\n",
              "      <td>NaN</td>\n",
              "      <td>NaN</td>\n",
              "      <td>0.0</td>\n",
              "    </tr>\n",
              "    <tr>\n",
              "      <th>3</th>\n",
              "      <td>1996-11-17</td>\n",
              "      <td>NaN</td>\n",
              "      <td>NaN</td>\n",
              "      <td>NaN</td>\n",
              "      <td>NaN</td>\n",
              "      <td>1.0</td>\n",
              "    </tr>\n",
              "    <tr>\n",
              "      <th>4</th>\n",
              "      <td>1996-11-18</td>\n",
              "      <td>NaN</td>\n",
              "      <td>NaN</td>\n",
              "      <td>NaN</td>\n",
              "      <td>NaN</td>\n",
              "      <td>1.0</td>\n",
              "    </tr>\n",
              "    <tr>\n",
              "      <th>...</th>\n",
              "      <td>...</td>\n",
              "      <td>...</td>\n",
              "      <td>...</td>\n",
              "      <td>...</td>\n",
              "      <td>...</td>\n",
              "      <td>...</td>\n",
              "    </tr>\n",
              "    <tr>\n",
              "      <th>10079</th>\n",
              "      <td>2019-12-22</td>\n",
              "      <td>NaN</td>\n",
              "      <td>NaN</td>\n",
              "      <td>NaN</td>\n",
              "      <td>NaN</td>\n",
              "      <td>1.0</td>\n",
              "    </tr>\n",
              "    <tr>\n",
              "      <th>10080</th>\n",
              "      <td>2019-12-23</td>\n",
              "      <td>NaN</td>\n",
              "      <td>NaN</td>\n",
              "      <td>NaN</td>\n",
              "      <td>NaN</td>\n",
              "      <td>1.0</td>\n",
              "    </tr>\n",
              "    <tr>\n",
              "      <th>10081</th>\n",
              "      <td>2019-12-24</td>\n",
              "      <td>NaN</td>\n",
              "      <td>NaN</td>\n",
              "      <td>NaN</td>\n",
              "      <td>NaN</td>\n",
              "      <td>0.0</td>\n",
              "    </tr>\n",
              "    <tr>\n",
              "      <th>10082</th>\n",
              "      <td>2019-12-25</td>\n",
              "      <td>NaN</td>\n",
              "      <td>NaN</td>\n",
              "      <td>NaN</td>\n",
              "      <td>NaN</td>\n",
              "      <td>0.0</td>\n",
              "    </tr>\n",
              "    <tr>\n",
              "      <th>10083</th>\n",
              "      <td>2019-12-26</td>\n",
              "      <td>NaN</td>\n",
              "      <td>NaN</td>\n",
              "      <td>NaN</td>\n",
              "      <td>NaN</td>\n",
              "      <td>0.0</td>\n",
              "    </tr>\n",
              "  </tbody>\n",
              "</table>\n",
              "<p>10084 rows × 6 columns</p>\n",
              "</div>"
            ],
            "text/plain": [
              "            date             topic  ... meeting  event\n",
              "0     1996-11-15  DR Congo (Zaire)  ...     1.0    1.0\n",
              "1     1996-11-15  DR Congo (Zaire)  ...     1.0    1.0\n",
              "2     1996-11-16               NaN  ...     NaN    0.0\n",
              "3     1996-11-17               NaN  ...     NaN    1.0\n",
              "4     1996-11-18               NaN  ...     NaN    1.0\n",
              "...          ...               ...  ...     ...    ...\n",
              "10079 2019-12-22               NaN  ...     NaN    1.0\n",
              "10080 2019-12-23               NaN  ...     NaN    1.0\n",
              "10081 2019-12-24               NaN  ...     NaN    0.0\n",
              "10082 2019-12-25               NaN  ...     NaN    0.0\n",
              "10083 2019-12-26               NaN  ...     NaN    0.0\n",
              "\n",
              "[10084 rows x 6 columns]"
            ]
          },
          "metadata": {
            "tags": []
          },
          "execution_count": 11
        }
      ]
    },
    {
      "cell_type": "markdown",
      "metadata": {
        "id": "rKthNwk9VBje",
        "colab_type": "text"
      },
      "source": [
        "Checking by plotting:"
      ]
    },
    {
      "cell_type": "code",
      "metadata": {
        "id": "_rVPtn5YQFSY",
        "colab_type": "code",
        "colab": {
          "base_uri": "https://localhost:8080/",
          "height": 316
        },
        "outputId": "ca3c50d2-2f3c-4723-801d-4b216a660aa1"
      },
      "source": [
        "import matplotlib.pyplot as plt \n",
        "\n",
        "plt.plot(data_dict['georgia']['date'], data_dict['georgia']['event'], '*')\n",
        "plt.plot(data_dict['georgia']['date'], data_dict['georgia']['meeting'], '*')\n",
        "plt.xticks(rotation = 'vertical')"
      ],
      "execution_count": null,
      "outputs": [
        {
          "output_type": "display_data",
          "data": {
            "text/html": [
              "\n",
              "  <style>\n",
              "    pre {\n",
              "        white-space: pre-wrap;\n",
              "    }\n",
              "  </style>\n",
              "  "
            ],
            "text/plain": [
              "<IPython.core.display.HTML object>"
            ]
          },
          "metadata": {
            "tags": []
          }
        },
        {
          "output_type": "execute_result",
          "data": {
            "text/plain": [
              "(array([727929., 728659., 729390., 730120., 730851., 731581., 732312.,\n",
              "        733042., 733773.]), <a list of 9 Text major ticklabel objects>)"
            ]
          },
          "metadata": {
            "tags": []
          },
          "execution_count": 12
        },
        {
          "output_type": "display_data",
          "data": {
            "image/png": "[encoded data removed]",
            "text/plain": [
              "<Figure size 432x288 with 1 Axes>"
            ]
          },
          "metadata": {
            "tags": [],
            "needs_background": "light"
          }
        }
      ]
    },
    {
      "cell_type": "markdown",
      "metadata": {
        "id": "yZUrhxA8PG55",
        "colab_type": "text"
      },
      "source": [
        "Saving this:"
      ]
    },
    {
      "cell_type": "code",
      "metadata": {
        "id": "d4ySQPWLc9Lq",
        "colab_type": "code",
        "colab": {
          "base_uri": "https://localhost:8080/",
          "height": 17
        },
        "outputId": "8689ff7e-175b-424a-8542-0da939b08632"
      },
      "source": [
        "# package for saving panda dictionaries\n",
        "import pickle\n",
        "\n",
        "with open('/content/gdrive/My Drive/Colab files/all_datasets', 'wb') as f:\n",
        "   pickle.dump(data_dict, f)"
      ],
      "execution_count": null,
      "outputs": [
        {
          "output_type": "display_data",
          "data": {
            "text/html": [
              "\n",
              "  <style>\n",
              "    pre {\n",
              "        white-space: pre-wrap;\n",
              "    }\n",
              "  </style>\n",
              "  "
            ],
            "text/plain": [
              "<IPython.core.display.HTML object>"
            ]
          },
          "metadata": {
            "tags": []
          }
        }
      ]
    },
    {
      "cell_type": "code",
      "metadata": {
        "id": "Vv5LNOTvdvoK",
        "colab_type": "code",
        "colab": {}
      },
      "source": [
        "# checking that it works\n",
        "with open('/content/gdrive/My Drive/Colab files/all_datasets', 'rb') as f:\n",
        "   d_check = pickle.load(f)"
      ],
      "execution_count": null,
      "outputs": []
    },
    {
      "cell_type": "code",
      "metadata": {
        "id": "Lw-oW5jjeWMS",
        "colab_type": "code",
        "colab": {
          "base_uri": "https://localhost:8080/",
          "height": 1000
        },
        "outputId": "734b952f-3ab8-4ff5-adbb-ae500ad1dde3"
      },
      "source": [
        "d_check"
      ],
      "execution_count": null,
      "outputs": [
        {
          "output_type": "execute_result",
          "data": {
            "text/plain": [
              "{'afghanistan':             date        topic  ... meeting  event\n",
              " 0     1996-04-09  Afghanistan  ...     1.0    1.0\n",
              " 1     1996-04-10          NaN  ...     NaN    1.0\n",
              " 2     1996-04-11          NaN  ...     NaN    0.0\n",
              " 3     1996-04-12          NaN  ...     NaN    1.0\n",
              " 4     1996-04-12          NaN  ...     NaN    1.0\n",
              " ...          ...          ...  ...     ...    ...\n",
              " 34973 2019-12-23          NaN  ...     NaN    1.0\n",
              " 34974 2019-12-23          NaN  ...     NaN    1.0\n",
              " 34975 2019-12-23          NaN  ...     NaN    1.0\n",
              " 34976 2019-12-23          NaN  ...     NaN    1.0\n",
              " 34977 2019-12-23          NaN  ...     NaN    1.0\n",
              " \n",
              " [34978 rows x 6 columns],\n",
              " 'albania':           date    topic  ... meeting  event\n",
              " 0   1997-03-28  Albania  ...     1.0    0.0\n",
              " 1   1997-03-29      NaN  ...     NaN    0.0\n",
              " 2   1997-03-30      NaN  ...     NaN    0.0\n",
              " 3   1997-03-31      NaN  ...     NaN    0.0\n",
              " 4   1997-04-01      NaN  ...     NaN    0.0\n",
              " ..         ...      ...  ...     ...    ...\n",
              " 142 1997-08-17      NaN  ...     NaN    0.0\n",
              " 143 1997-08-18      NaN  ...     NaN    0.0\n",
              " 144 1997-08-19      NaN  ...     NaN    0.0\n",
              " 145 1997-08-20      NaN  ...     NaN    0.0\n",
              " 146 1997-08-21      NaN  ...     NaN    0.0\n",
              " \n",
              " [147 rows x 6 columns],\n",
              " 'angola':            date   topic  ... meeting  event\n",
              " 0    1995-02-08  Angola  ...     1.0    0.0\n",
              " 1    1995-02-09     NaN  ...     NaN    0.0\n",
              " 2    1995-02-10     NaN  ...     NaN    0.0\n",
              " 3    1995-02-11     NaN  ...     NaN    0.0\n",
              " 4    1995-02-12     NaN  ...     NaN    0.0\n",
              " ...         ...     ...  ...     ...    ...\n",
              " 2971 2002-07-20     NaN  ...     NaN    0.0\n",
              " 2972 2002-07-21     NaN  ...     NaN    0.0\n",
              " 2973 2002-07-22     NaN  ...     NaN    1.0\n",
              " 2974 2002-07-23     NaN  ...     NaN    0.0\n",
              " 2975 2002-07-24     NaN  ...     NaN    0.0\n",
              " \n",
              " [2976 rows x 6 columns],\n",
              " 'bosnia-herzegovina':            date               topic  ... meeting  event\n",
              " 0    2013-05-14  Bosnia-Herzegovina  ...     1.0    0.0\n",
              " 1    2013-05-15                 NaN  ...     NaN    0.0\n",
              " 2    2013-05-16                 NaN  ...     NaN    0.0\n",
              " 3    2013-05-17                 NaN  ...     NaN    0.0\n",
              " 4    2013-05-18                 NaN  ...     NaN    0.0\n",
              " ...         ...                 ...  ...     ...    ...\n",
              " 2369 2019-11-08                 NaN  ...     NaN    0.0\n",
              " 2370 2019-11-09                 NaN  ...     NaN    0.0\n",
              " 2371 2019-11-10                 NaN  ...     NaN    0.0\n",
              " 2372 2019-11-11                 NaN  ...     NaN    0.0\n",
              " 2373 2019-11-12                 NaN  ...     NaN    0.0\n",
              " \n",
              " [2374 rows x 6 columns],\n",
              " 'burundi':            date    topic  ... meeting  event\n",
              " 0    1995-08-28  Burundi  ...     1.0    0.0\n",
              " 1    1995-08-29      NaN  ...     NaN    0.0\n",
              " 2    1995-08-30      NaN  ...     NaN    0.0\n",
              " 3    1995-08-31      NaN  ...     NaN    0.0\n",
              " 4    1995-09-01      NaN  ...     NaN    1.0\n",
              " ...         ...      ...  ...     ...    ...\n",
              " 9149 2019-11-02      NaN  ...     NaN    0.0\n",
              " 9150 2019-11-03      NaN  ...     NaN    0.0\n",
              " 9151 2019-11-04      NaN  ...     NaN    0.0\n",
              " 9152 2019-11-05      NaN  ...     NaN    0.0\n",
              " 9153 2019-11-06      NaN  ...     NaN    0.0\n",
              " \n",
              " [9154 rows x 6 columns],\n",
              " 'central african republic':            date                     topic  ... meeting  event\n",
              " 0    1997-08-06  Central African Republic  ...     1.0    0.0\n",
              " 1    1997-08-07                       NaN  ...     NaN    0.0\n",
              " 2    1997-08-08                       NaN  ...     NaN    0.0\n",
              " 3    1997-08-09                       NaN  ...     NaN    0.0\n",
              " 4    1997-08-10                       NaN  ...     NaN    0.0\n",
              " ...         ...                       ...  ...     ...    ...\n",
              " 8697 2019-11-18                       NaN  ...     NaN    0.0\n",
              " 8698 2019-11-19                       NaN  ...     NaN    0.0\n",
              " 8699 2019-11-20                       NaN  ...     NaN    0.0\n",
              " 8700 2019-11-21                       NaN  ...     NaN    1.0\n",
              " 8701 2019-11-22                       NaN  ...     NaN    0.0\n",
              " \n",
              " [8702 rows x 6 columns],\n",
              " 'colombia':            date     topic  ... meeting  event\n",
              " 0    2016-01-25  Colombia  ...     1.0    0.0\n",
              " 1    2016-01-26       NaN  ...     NaN    0.0\n",
              " 2    2016-01-27       NaN  ...     NaN    0.0\n",
              " 3    2016-01-28       NaN  ...     NaN    0.0\n",
              " 4    2016-01-29       NaN  ...     NaN    0.0\n",
              " ...         ...       ...  ...     ...    ...\n",
              " 1371 2019-10-13       NaN  ...     NaN    0.0\n",
              " 1372 2019-10-14       NaN  ...     NaN    0.0\n",
              " 1373 2019-10-15       NaN  ...     NaN    1.0\n",
              " 1374 2019-10-16       NaN  ...     NaN    0.0\n",
              " 1375 2019-10-17       NaN  ...     NaN    0.0\n",
              " \n",
              " [1376 rows x 6 columns],\n",
              " 'croatia':           date    topic  ... meeting  event\n",
              " 0   1995-05-17  Croatia  ...     1.0    0.0\n",
              " 1   1995-05-18      NaN  ...     NaN    0.0\n",
              " 2   1995-05-19      NaN  ...     NaN    0.0\n",
              " 3   1995-05-20      NaN  ...     NaN    0.0\n",
              " 4   1995-05-21      NaN  ...     NaN    0.0\n",
              " ..         ...      ...  ...     ...    ...\n",
              " 963 1997-12-22      NaN  ...     NaN    0.0\n",
              " 964 1997-12-23      NaN  ...     NaN    0.0\n",
              " 965 1997-12-24      NaN  ...     NaN    0.0\n",
              " 966 1997-12-25      NaN  ...     NaN    0.0\n",
              " 967 1997-12-26      NaN  ...     NaN    0.0\n",
              " \n",
              " [968 rows x 6 columns],\n",
              " 'dr congo (zaire)':             date             topic  ... meeting  event\n",
              " 0     1996-11-15  DR Congo (Zaire)  ...     1.0    1.0\n",
              " 1     1996-11-15  DR Congo (Zaire)  ...     1.0    1.0\n",
              " 2     1996-11-16               NaN  ...     NaN    0.0\n",
              " 3     1996-11-17               NaN  ...     NaN    1.0\n",
              " 4     1996-11-18               NaN  ...     NaN    1.0\n",
              " ...          ...               ...  ...     ...    ...\n",
              " 10079 2019-12-22               NaN  ...     NaN    1.0\n",
              " 10080 2019-12-23               NaN  ...     NaN    1.0\n",
              " 10081 2019-12-24               NaN  ...     NaN    0.0\n",
              " 10082 2019-12-25               NaN  ...     NaN    0.0\n",
              " 10083 2019-12-26               NaN  ...     NaN    0.0\n",
              " \n",
              " [10084 rows x 6 columns],\n",
              " 'el salvador':         date        topic  ... meeting  event\n",
              " 0 1995-04-28  El Salvador  ...     1.0    0.0\n",
              " 1 1995-04-29          NaN  ...     NaN    0.0\n",
              " 2 1995-04-30          NaN  ...     NaN    0.0\n",
              " 3 1995-05-01          NaN  ...     NaN    0.0\n",
              " 4 1995-05-02          NaN  ...     NaN    0.0\n",
              " 5 1995-05-03          NaN  ...     NaN    0.0\n",
              " 6 1995-05-04          NaN  ...     NaN    0.0\n",
              " 7 1995-05-05          NaN  ...     NaN    0.0\n",
              " \n",
              " [8 rows x 6 columns],\n",
              " 'georgia':            date    topic  ... meeting  event\n",
              " 0    1995-01-12  Georgia  ...     1.0    0.0\n",
              " 1    1995-01-13      NaN  ...     NaN    0.0\n",
              " 2    1995-01-14      NaN  ...     NaN    0.0\n",
              " 3    1995-01-15      NaN  ...     NaN    0.0\n",
              " 4    1995-01-16      NaN  ...     NaN    0.0\n",
              " ...         ...      ...  ...     ...    ...\n",
              " 5279 2009-06-18      NaN  ...     NaN    0.0\n",
              " 5280 2009-06-19      NaN  ...     NaN    0.0\n",
              " 5281 2009-06-20      NaN  ...     NaN    0.0\n",
              " 5282 2009-06-21      NaN  ...     NaN    0.0\n",
              " 5283 2009-06-22      NaN  ...     NaN    0.0\n",
              " \n",
              " [5284 rows x 6 columns],\n",
              " 'guatemala':          date      topic  ... meeting  event\n",
              " 0  1997-01-10  Guatemala  ...     1.0    0.0\n",
              " 1  1997-01-11        NaN  ...     NaN    0.0\n",
              " 2  1997-01-12        NaN  ...     NaN    0.0\n",
              " 3  1997-01-13        NaN  ...     NaN    0.0\n",
              " 4  1997-01-14        NaN  ...     NaN    0.0\n",
              " 5  1997-01-15        NaN  ...     NaN    0.0\n",
              " 6  1997-01-16        NaN  ...     NaN    0.0\n",
              " 7  1997-01-17        NaN  ...     NaN    0.0\n",
              " 8  1997-01-18        NaN  ...     NaN    0.0\n",
              " 9  1997-01-19        NaN  ...     NaN    0.0\n",
              " 10 1997-01-20  Guatemala  ...     1.0    0.0\n",
              " 11 1997-01-21        NaN  ...     NaN    0.0\n",
              " 12 1997-01-22        NaN  ...     NaN    0.0\n",
              " 13 1997-01-23        NaN  ...     NaN    0.0\n",
              " 14 1997-01-24        NaN  ...     NaN    0.0\n",
              " 15 1997-01-25        NaN  ...     NaN    0.0\n",
              " 16 1997-01-26        NaN  ...     NaN    0.0\n",
              " 17 1997-01-27        NaN  ...     NaN    0.0\n",
              " \n",
              " [18 rows x 6 columns],\n",
              " 'guinea-bissau':            date          topic  ... meeting  event\n",
              " 0    2000-03-29  Guinea-Bissau  ...     1.0    0.0\n",
              " 1    2000-03-30            NaN  ...     NaN    0.0\n",
              " 2    2000-03-31            NaN  ...     NaN    0.0\n",
              " 3    2000-04-01            NaN  ...     NaN    0.0\n",
              " 4    2000-04-02            NaN  ...     NaN    0.0\n",
              " ...         ...            ...  ...     ...    ...\n",
              " 7108 2019-09-13            NaN  ...     NaN    0.0\n",
              " 7109 2019-09-14            NaN  ...     NaN    0.0\n",
              " 7110 2019-09-15            NaN  ...     NaN    0.0\n",
              " 7111 2019-09-16            NaN  ...     NaN    0.0\n",
              " 7112 2019-09-17            NaN  ...     NaN    0.0\n",
              " \n",
              " [7113 rows x 6 columns],\n",
              " 'haiti':            date  topic  ... meeting  event\n",
              " 0    1995-01-30  Haiti  ...     1.0    0.0\n",
              " 1    1995-01-31    NaN  ...     NaN    0.0\n",
              " 2    1995-02-01    NaN  ...     NaN    0.0\n",
              " 3    1995-02-02    NaN  ...     NaN    0.0\n",
              " 4    1995-02-03    NaN  ...     NaN    0.0\n",
              " ...         ...    ...  ...     ...    ...\n",
              " 9030 2019-10-18    NaN  ...     NaN    0.0\n",
              " 9031 2019-10-19    NaN  ...     NaN    0.0\n",
              " 9032 2019-10-20    NaN  ...     NaN    0.0\n",
              " 9033 2019-10-21    NaN  ...     NaN    0.0\n",
              " 9034 2019-10-22    NaN  ...     NaN    0.0\n",
              " \n",
              " [9035 rows x 6 columns],\n",
              " 'honduras':         date     topic  ... meeting  event\n",
              " 0 2009-09-25  Honduras  ...     1.0    0.0\n",
              " 1 2009-09-26       NaN  ...     NaN    0.0\n",
              " 2 2009-09-27       NaN  ...     NaN    0.0\n",
              " 3 2009-09-28       NaN  ...     NaN    0.0\n",
              " 4 2009-09-29       NaN  ...     NaN    0.0\n",
              " 5 2009-09-30       NaN  ...     NaN    0.0\n",
              " 6 2009-10-01       NaN  ...     NaN    0.0\n",
              " 7 2009-10-02       NaN  ...     NaN    0.0\n",
              " \n",
              " [8 rows x 6 columns],\n",
              " 'iraq':             date topic  ... meeting  event\n",
              " 0     2000-03-24  Iraq  ...     1.0    0.0\n",
              " 1     2000-03-25   NaN  ...     NaN    0.0\n",
              " 2     2000-03-26   NaN  ...     NaN    0.0\n",
              " 3     2000-03-27   NaN  ...     NaN    0.0\n",
              " 4     2000-03-28   NaN  ...     NaN    0.0\n",
              " ...          ...   ...  ...     ...    ...\n",
              " 11076 2019-12-07   NaN  ...     NaN    1.0\n",
              " 11077 2019-12-07   NaN  ...     NaN    1.0\n",
              " 11078 2019-12-08   NaN  ...     NaN    0.0\n",
              " 11079 2019-12-09   NaN  ...     NaN    0.0\n",
              " 11080 2019-12-10   NaN  ...     NaN    0.0\n",
              " \n",
              " [11081 rows x 6 columns],\n",
              " 'lebanon':            date    topic  ... meeting  event\n",
              " 0    1996-04-15  Lebanon  ...     1.0    1.0\n",
              " 1    1996-04-16      NaN  ...     NaN    1.0\n",
              " 2    1996-04-16      NaN  ...     NaN    1.0\n",
              " 3    1996-04-16      NaN  ...     NaN    1.0\n",
              " 4    1996-04-17      NaN  ...     NaN    0.0\n",
              " ...         ...      ...  ...     ...    ...\n",
              " 3232 2005-01-31      NaN  ...     NaN    0.0\n",
              " 3233 2005-02-01      NaN  ...     NaN    0.0\n",
              " 3234 2005-02-02      NaN  ...     NaN    0.0\n",
              " 3235 2005-02-03      NaN  ...     NaN    0.0\n",
              " 3236 2005-02-04      NaN  ...     NaN    0.0\n",
              " \n",
              " [3237 rows x 6 columns],\n",
              " 'liberia':            date    topic  ... meeting  event\n",
              " 0    1995-01-13  Liberia  ...     1.0    0.0\n",
              " 1    1995-01-14      NaN  ...     NaN    0.0\n",
              " 2    1995-01-15      NaN  ...     NaN    0.0\n",
              " 3    1995-01-16      NaN  ...     NaN    0.0\n",
              " 4    1995-01-17      NaN  ...     NaN    1.0\n",
              " ...         ...      ...  ...     ...    ...\n",
              " 8562 2018-04-22      NaN  ...     NaN    0.0\n",
              " 8563 2018-04-23      NaN  ...     NaN    0.0\n",
              " 8564 2018-04-24      NaN  ...     NaN    0.0\n",
              " 8565 2018-04-25      NaN  ...     NaN    0.0\n",
              " 8566 2018-04-26      NaN  ...     NaN    0.0\n",
              " \n",
              " [8567 rows x 6 columns],\n",
              " 'macedonia, fyr':            date           topic  ... meeting  event\n",
              " 0    1995-11-30  Macedonia, FYR  ...     1.0    0.0\n",
              " 1    1995-12-01             NaN  ...     NaN    0.0\n",
              " 2    1995-12-02             NaN  ...     NaN    0.0\n",
              " 3    1995-12-03             NaN  ...     NaN    0.0\n",
              " 4    1995-12-04             NaN  ...     NaN    0.0\n",
              " ...         ...             ...  ...     ...    ...\n",
              " 1930 2001-03-12             NaN  ...     NaN    0.0\n",
              " 1931 2001-03-13             NaN  ...     NaN    0.0\n",
              " 1932 2001-03-14             NaN  ...     NaN    1.0\n",
              " 1933 2001-03-14             NaN  ...     NaN    1.0\n",
              " 1934 2001-03-14             NaN  ...     NaN    1.0\n",
              " \n",
              " [1935 rows x 6 columns],\n",
              " 'mali':            date topic  ... meeting  event\n",
              " 0    2012-12-20  Mali  ...     1.0    0.0\n",
              " 1    2012-12-21   NaN  ...     NaN    0.0\n",
              " 2    2012-12-22   NaN  ...     NaN    0.0\n",
              " 3    2012-12-23   NaN  ...     NaN    0.0\n",
              " 4    2012-12-24   NaN  ...     NaN    0.0\n",
              " ...         ...   ...  ...     ...    ...\n",
              " 2701 2019-10-11   NaN  ...     NaN    0.0\n",
              " 2702 2019-10-12   NaN  ...     NaN    0.0\n",
              " 2703 2019-10-13   NaN  ...     NaN    0.0\n",
              " 2704 2019-10-14   NaN  ...     NaN    0.0\n",
              " 2705 2019-10-15   NaN  ...     NaN    1.0\n",
              " \n",
              " [2706 rows x 6 columns],\n",
              " 'myanmar (burma)':            date            topic  ... meeting  event\n",
              " 0    2006-09-15  Myanmar (Burma)  ...     1.0    1.0\n",
              " 1    2006-09-16              NaN  ...     NaN    0.0\n",
              " 2    2006-09-17              NaN  ...     NaN    0.0\n",
              " 3    2006-09-18              NaN  ...     NaN    1.0\n",
              " 4    2006-09-19              NaN  ...     NaN    0.0\n",
              " ...         ...              ...  ...     ...    ...\n",
              " 4977 2019-03-03              NaN  ...     NaN    0.0\n",
              " 4978 2019-03-04              NaN  ...     NaN    1.0\n",
              " 4979 2019-03-05              NaN  ...     NaN    0.0\n",
              " 4980 2019-03-06              NaN  ...     NaN    1.0\n",
              " 4981 2019-03-07              NaN  ...     NaN    1.0\n",
              " \n",
              " [4982 rows x 6 columns],\n",
              " 'papua new guinea':           date             topic  ... meeting  event\n",
              " 0   2002-11-21  Papua New Guinea  ...     1.0    0.0\n",
              " 1   2002-11-22               NaN  ...     NaN    0.0\n",
              " 2   2002-11-23               NaN  ...     NaN    0.0\n",
              " 3   2002-11-24               NaN  ...     NaN    0.0\n",
              " 4   2002-11-25               NaN  ...     NaN    0.0\n",
              " ..         ...               ...  ...     ...    ...\n",
              " 961 2005-07-09               NaN  ...     NaN    0.0\n",
              " 962 2005-07-10               NaN  ...     NaN    0.0\n",
              " 963 2005-07-11               NaN  ...     NaN    0.0\n",
              " 964 2005-07-12               NaN  ...     NaN    0.0\n",
              " 965 2005-07-13               NaN  ...     NaN    0.0\n",
              " \n",
              " [966 rows x 6 columns],\n",
              " 'rwanda':            date   topic  ... meeting  event\n",
              " 0    1995-06-09  Rwanda  ...     1.0    0.0\n",
              " 1    1995-06-10     NaN  ...     NaN    0.0\n",
              " 2    1995-06-11     NaN  ...     NaN    0.0\n",
              " 3    1995-06-12     NaN  ...     NaN    0.0\n",
              " 4    1995-06-13     NaN  ...     NaN    0.0\n",
              " ...         ...     ...  ...     ...    ...\n",
              " 4361 2007-03-31     NaN  ...     NaN    0.0\n",
              " 4362 2007-04-01     NaN  ...     NaN    0.0\n",
              " 4363 2007-04-02     NaN  ...     NaN    0.0\n",
              " 4364 2007-04-03     NaN  ...     NaN    0.0\n",
              " 4365 2007-04-04     NaN  ...     NaN    0.0\n",
              " \n",
              " [4366 rows x 6 columns],\n",
              " 'serbia (yugoslavia)':           date                topic  ... meeting  event\n",
              " 0   1995-03-31  Serbia (Yugoslavia)  ...     1.0    0.0\n",
              " 1   1995-04-01                  NaN  ...     NaN    0.0\n",
              " 2   1995-04-02                  NaN  ...     NaN    0.0\n",
              " 3   1995-04-03                  NaN  ...     NaN    0.0\n",
              " 4   1995-04-04                  NaN  ...     NaN    0.0\n",
              " ..         ...                  ...  ...     ...    ...\n",
              " 226 1995-11-12                  NaN  ...     NaN    0.0\n",
              " 227 1995-11-13                  NaN  ...     NaN    0.0\n",
              " 228 1995-11-14                  NaN  ...     NaN    0.0\n",
              " 229 1995-11-15                  NaN  ...     NaN    0.0\n",
              " 230 1995-11-16                  NaN  ...     NaN    0.0\n",
              " \n",
              " [231 rows x 6 columns],\n",
              " 'sierra leone':            date         topic  ... meeting  event\n",
              " 0    1997-07-11  Sierra Leone  ...     1.0    0.0\n",
              " 1    1997-07-12           NaN  ...     NaN    1.0\n",
              " 2    1997-07-13           NaN  ...     NaN    0.0\n",
              " 3    1997-07-14           NaN  ...     NaN    0.0\n",
              " 4    1997-07-15           NaN  ...     NaN    0.0\n",
              " ...         ...           ...  ...     ...    ...\n",
              " 6523 2014-03-29           NaN  ...     NaN    0.0\n",
              " 6524 2014-03-30           NaN  ...     NaN    0.0\n",
              " 6525 2014-03-31           NaN  ...     NaN    0.0\n",
              " 6526 2014-04-01           NaN  ...     NaN    0.0\n",
              " 6527 2014-04-02           NaN  ...     NaN    0.0\n",
              " \n",
              " [6528 rows x 6 columns],\n",
              " 'somalia':             date    topic  ... meeting  event\n",
              " 0     1996-03-15  Somalia  ...     1.0    0.0\n",
              " 1     1996-03-16      NaN  ...     NaN    1.0\n",
              " 2     1996-03-17      NaN  ...     NaN    0.0\n",
              " 3     1996-03-18      NaN  ...     NaN    0.0\n",
              " 4     1996-03-19      NaN  ...     NaN    1.0\n",
              " ...          ...      ...  ...     ...    ...\n",
              " 10524 2019-12-09      NaN  ...     NaN    1.0\n",
              " 10525 2019-12-09      NaN  ...     NaN    1.0\n",
              " 10526 2019-12-10      NaN  ...     NaN    1.0\n",
              " 10527 2019-12-10      NaN  ...     NaN    1.0\n",
              " 10528 2019-12-11      NaN  ...     NaN    1.0\n",
              " \n",
              " [10529 rows x 6 columns],\n",
              " 'sudan':            date  topic  ... meeting  event\n",
              " 0    2001-09-28  Sudan  ...     1.0    0.0\n",
              " 1    2001-09-29    NaN  ...     NaN    0.0\n",
              " 2    2001-09-30    NaN  ...     NaN    0.0\n",
              " 3    2001-10-01    NaN  ...     NaN    1.0\n",
              " 4    2001-10-02    NaN  ...     NaN    0.0\n",
              " ...         ...    ...  ...     ...    ...\n",
              " 7535 2019-12-21    NaN  ...     NaN    0.0\n",
              " 7536 2019-12-22    NaN  ...     NaN    0.0\n",
              " 7537 2019-12-23    NaN  ...     NaN    0.0\n",
              " 7538 2019-12-24    NaN  ...     NaN    0.0\n",
              " 7539 2019-12-25    NaN  ...     NaN    0.0\n",
              " \n",
              " [7540 rows x 6 columns],\n",
              " 'tajikistan':            date       topic  ... meeting  event\n",
              " 0    1995-06-16  Tajikistan  ...     1.0    0.0\n",
              " 1    1995-06-17         NaN  ...     NaN    0.0\n",
              " 2    1995-06-18         NaN  ...     NaN    0.0\n",
              " 3    1995-06-19         NaN  ...     NaN    0.0\n",
              " 4    1995-06-20         NaN  ...     NaN    0.0\n",
              " ...         ...         ...  ...     ...    ...\n",
              " 1822 2000-05-15         NaN  ...     NaN    0.0\n",
              " 1823 2000-05-16         NaN  ...     NaN    0.0\n",
              " 1824 2000-05-17         NaN  ...     NaN    0.0\n",
              " 1825 2000-05-18         NaN  ...     NaN    0.0\n",
              " 1826 2000-05-19         NaN  ...     NaN    0.0\n",
              " \n",
              " [1827 rows x 6 columns],\n",
              " 'uganda':         date   topic  ... meeting  event\n",
              " 0 2006-04-19  Uganda  ...     1.0    1.0\n",
              " 1 2006-04-20     NaN  ...     NaN    1.0\n",
              " 2 2006-04-20     NaN  ...     NaN    1.0\n",
              " 3 2006-04-21     NaN  ...     NaN    0.0\n",
              " 4 2006-04-22     NaN  ...     NaN    0.0\n",
              " 5 2006-04-23     NaN  ...     NaN    0.0\n",
              " 6 2006-04-24     NaN  ...     NaN    0.0\n",
              " 7 2006-04-25     NaN  ...     NaN    1.0\n",
              " 8 2006-04-26     NaN  ...     NaN    0.0\n",
              " \n",
              " [9 rows x 6 columns],\n",
              " 'ukraine':            date    topic  ... meeting  event\n",
              " 0    2014-03-01  Ukraine  ...     1.0    0.0\n",
              " 1    2014-03-02      NaN  ...     NaN    0.0\n",
              " 2    2014-03-03  Ukraine  ...     1.0    0.0\n",
              " 3    2014-03-04      NaN  ...     NaN    0.0\n",
              " 4    2014-03-05      NaN  ...     NaN    0.0\n",
              " ...         ...      ...  ...     ...    ...\n",
              " 2353 2019-07-20      NaN  ...     NaN    1.0\n",
              " 2354 2019-07-20      NaN  ...     NaN    1.0\n",
              " 2355 2019-07-21      NaN  ...     NaN    1.0\n",
              " 2356 2019-07-22      NaN  ...     NaN    0.0\n",
              " 2357 2019-07-23      NaN  ...     NaN    0.0\n",
              " \n",
              " [2358 rows x 6 columns],\n",
              " 'venezuela':          date      topic  ... meeting  event\n",
              " 0  2019-01-26  Venezuela  ...     1.0    0.0\n",
              " 1  2019-01-27        NaN  ...     NaN    0.0\n",
              " 2  2019-01-28        NaN  ...     NaN    1.0\n",
              " 3  2019-01-29        NaN  ...     NaN    0.0\n",
              " 4  2019-01-30        NaN  ...     NaN    0.0\n",
              " ..        ...        ...  ...     ...    ...\n",
              " 77 2019-04-13        NaN  ...     NaN    0.0\n",
              " 78 2019-04-14        NaN  ...     NaN    0.0\n",
              " 79 2019-04-15        NaN  ...     NaN    0.0\n",
              " 80 2019-04-16        NaN  ...     NaN    0.0\n",
              " 81 2019-04-17        NaN  ...     NaN    0.0\n",
              " \n",
              " [82 rows x 6 columns]}"
            ]
          },
          "metadata": {
            "tags": []
          },
          "execution_count": 79
        }
      ]
    }
  ]
}