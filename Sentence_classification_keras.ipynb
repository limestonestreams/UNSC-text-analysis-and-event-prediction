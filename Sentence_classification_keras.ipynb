{
  "nbformat": 4,
  "nbformat_minor": 0,
  "metadata": {
    "colab": {
      "name": "Sentence classification keras.ipynb",
      "provenance": [],
      "collapsed_sections": [],
      "authorship_tag": "ABX9TyOfZoejQBxzNhGHKj7M+idn",
      "include_colab_link": true
    },
    "kernelspec": {
      "name": "python3",
      "display_name": "Python 3"
    }
  },
  "cells": [
    {
      "cell_type": "markdown",
      "metadata": {
        "id": "view-in-github",
        "colab_type": "text"
      },
      "source": [
        "<a href=\"https://colab.research.google.com/github/limestonestreams/thesis/blob/master/Sentence_classification_keras.ipynb\" target=\"_parent\"><img src=\"https://colab.research.google.com/assets/colab-badge.svg\" alt=\"Open In Colab\"/></a>"
      ]
    },
    {
      "cell_type": "markdown",
      "metadata": {
        "id": "u9kKRRoq2wQv",
        "colab_type": "text"
      },
      "source": [
        "From https://realpython.com/python-keras-text-classification/"
      ]
    },
    {
      "cell_type": "markdown",
      "metadata": {
        "id": "sRUnvU_4732C",
        "colab_type": "text"
      },
      "source": [
        "Importing the data:"
      ]
    },
    {
      "cell_type": "code",
      "metadata": {
        "id": "ieHni-zg2rq5",
        "colab_type": "code",
        "colab": {
          "base_uri": "https://localhost:8080/",
          "height": 191
        },
        "outputId": "fc017e66-6aa5-4c93-ff8e-144c75da57c4"
      },
      "source": [
        "# reading excel file\n",
        "import pandas\n",
        "label_data = pandas.read_excel (r'https://github.com/limestonestreams/thesis/blob/master/label_data.xlsx?raw=true', sheet_name = 'Sheet1')\n",
        "\n",
        "# turning into pandas dataframe\n",
        "df = pandas.DataFrame(label_data)\n",
        "\n",
        "print(df.iloc[0])"
      ],
      "execution_count": 72,
      "outputs": [
        {
          "output_type": "stream",
          "text": [
            "doc_id                                            text13066.1\n",
            "text        The Kingdom of the Netherlands stands firmly  ...\n",
            "filename                       UNSC_2018_SPV.8250_spch015.txt\n",
            "year                                                     2018\n",
            "country                                           Netherlands\n",
            "topic                                  Libyan Arab Jamahiriya\n",
            "title              Netherlands on Libyan Arab Jamahiriya 2018\n",
            "date                                               9 May 2018\n",
            "class                                              irrelevant\n",
            "Name: 0, dtype: object\n"
          ],
          "name": "stdout"
        }
      ]
    },
    {
      "cell_type": "markdown",
      "metadata": {
        "id": "5aCFZENTNXgt",
        "colab_type": "text"
      },
      "source": [
        "Changing labels column to numeric for input into keras model:"
      ]
    },
    {
      "cell_type": "code",
      "metadata": {
        "id": "6e9d4AaHInyj",
        "colab_type": "code",
        "colab": {
          "base_uri": "https://localhost:8080/",
          "height": 260
        },
        "outputId": "8e43ae4e-72a1-4b47-c3b7-897802815d9f"
      },
      "source": [
        "df.dtypes\n",
        "print(df['class'].value_counts())\n",
        "df[\"class\"] = df[\"class\"].astype('category')\n",
        "df[\"class\"] = df[\"class\"].cat.codes\n",
        "print(df[\"class\"].value_counts())\n",
        "\n",
        "# 0 - against\n",
        "# 1 - delegitimizing\n",
        "# 2 - for\n",
        "# 3 - humanizing\n",
        "# 4 - irrelevant\n",
        "# 5 - legitimizing"
      ],
      "execution_count": 73,
      "outputs": [
        {
          "output_type": "stream",
          "text": [
            "irrelevant        728\n",
            "for                84\n",
            "against            77\n",
            "legitimizing       46\n",
            "delegitimizing     45\n",
            "humanizing         20\n",
            "Name: class, dtype: int64\n",
            "4    728\n",
            "2     84\n",
            "0     77\n",
            "5     46\n",
            "1     45\n",
            "3     20\n",
            "Name: class, dtype: int64\n"
          ],
          "name": "stdout"
        }
      ]
    },
    {
      "cell_type": "markdown",
      "metadata": {
        "id": "pBY3c0XnQBq8",
        "colab_type": "text"
      },
      "source": [
        "Re-coding non-irrelevant categories to relevant:"
      ]
    },
    {
      "cell_type": "code",
      "metadata": {
        "id": "_90IYQo4QF8Q",
        "colab_type": "code",
        "colab": {
          "base_uri": "https://localhost:8080/",
          "height": 69
        },
        "outputId": "2d9626e7-772e-4ecb-c4b3-7aabdbee6512"
      },
      "source": [
        "df.loc[df['class'] != 4, 'class'] = 1\n",
        "df.loc[df['class'] == 4, 'class'] = 0\n",
        "print(df[\"class\"].value_counts())"
      ],
      "execution_count": 74,
      "outputs": [
        {
          "output_type": "stream",
          "text": [
            "0    728\n",
            "1    272\n",
            "Name: class, dtype: int64\n"
          ],
          "name": "stdout"
        }
      ]
    },
    {
      "cell_type": "markdown",
      "metadata": {
        "id": "mDdz2Ls4BCF0",
        "colab_type": "text"
      },
      "source": [
        "Splitting into training and testing set:"
      ]
    },
    {
      "cell_type": "code",
      "metadata": {
        "id": "YUtPj0VUBG37",
        "colab_type": "code",
        "colab": {
          "base_uri": "https://localhost:8080/",
          "height": 52
        },
        "outputId": "65adb5f0-b914-4043-beb9-c6f597f9a3da"
      },
      "source": [
        "from sklearn.model_selection import train_test_split\n",
        "\n",
        "sentences = df['text'].values\n",
        "y = df['class'].values\n",
        "\n",
        "sentences_train, sentences_test, y_train, y_test = train_test_split(sentences, y, test_size = 0.2, random_state = 1000)\n",
        "\n",
        "from keras.preprocessing.text import Tokenizer\n",
        "\n",
        "tokenizer = Tokenizer(num_words = 5000)\n",
        "tokenizer.fit_on_texts(sentences_train)\n",
        "\n",
        "X_train = tokenizer.texts_to_sequences(sentences_train)\n",
        "X_test = tokenizer.texts_to_sequences(sentences_test)\n",
        "\n",
        "vocab_size = len(tokenizer.word_index) + 1  # Adding 1 because of reserved 0 index\n",
        "\n",
        "print(sentences_train[2])\n",
        "print(X_train[2])"
      ],
      "execution_count": 75,
      "outputs": [
        {
          "output_type": "stream",
          "text": [
            "EULEX has established good cooperation with the authorities in Belgrade and Tirana.\n",
            "[816, 21, 234, 334, 191, 13, 1, 166, 5, 817, 4, 1626]\n"
          ],
          "name": "stdout"
        }
      ]
    },
    {
      "cell_type": "markdown",
      "metadata": {
        "id": "v-FlbCZ4CdoS",
        "colab_type": "text"
      },
      "source": [
        "Padding sentences:"
      ]
    },
    {
      "cell_type": "code",
      "metadata": {
        "id": "9egHgZIOCiDD",
        "colab_type": "code",
        "colab": {
          "base_uri": "https://localhost:8080/",
          "height": 156
        },
        "outputId": "56614e65-223a-4da6-bb95-e1a3ac7c7fd0"
      },
      "source": [
        "from keras.preprocessing.sequence import pad_sequences\n",
        "\n",
        "maxlen = 100\n",
        "\n",
        "X_train = pad_sequences(X_train, padding = 'post', maxlen = maxlen)\n",
        "X_test = pad_sequences(X_test, padding = 'post', maxlen = maxlen)\n",
        "\n",
        "print(X_train[0, :])"
      ],
      "execution_count": 76,
      "outputs": [
        {
          "output_type": "stream",
          "text": [
            "[  13    7  386 1098    2  293    4  529  208    1 1099    4    1  127\n",
            " 1100  530    4   69  815    5   75   50  387  454    3   30  647  127\n",
            "  455   30  191    4 1101 1625   30  294    0    0    0    0    0    0\n",
            "    0    0    0    0    0    0    0    0    0    0    0    0    0    0\n",
            "    0    0    0    0    0    0    0    0    0    0    0    0    0    0\n",
            "    0    0    0    0    0    0    0    0    0    0    0    0    0    0\n",
            "    0    0    0    0    0    0    0    0    0    0    0    0    0    0\n",
            "    0    0]\n"
          ],
          "name": "stdout"
        }
      ]
    },
    {
      "cell_type": "markdown",
      "metadata": {
        "id": "zsAywNuOD5-w",
        "colab_type": "text"
      },
      "source": [
        "Keras model setup:"
      ]
    },
    {
      "cell_type": "code",
      "metadata": {
        "id": "9JzQjeezD76G",
        "colab_type": "code",
        "colab": {
          "base_uri": "https://localhost:8080/",
          "height": 295
        },
        "outputId": "8f164646-5791-4898-9eac-ac4c1e99dcab"
      },
      "source": [
        "from tensorflow.keras.models import Sequential\n",
        "from tensorflow.keras import layers\n",
        "\n",
        "input_dim = X_train.shape[1]  # Number of features\n",
        "\n",
        "embedding_dim = 50\n",
        "\n",
        "model = Sequential()\n",
        "model.add(layers.Embedding(input_dim=vocab_size, \n",
        "                           output_dim=embedding_dim, \n",
        "                           input_length=maxlen))\n",
        "model.add(layers.Flatten())\n",
        "model.add(layers.Dense(10, activation='relu'))\n",
        "model.add(layers.Dense(1, activation = 'sigmoid'))\n",
        "\n",
        "model.compile(loss = 'binary_crossentropy', optimizer = 'sgd', metrics = ['accuracy'])\n",
        "\n",
        "model.summary()"
      ],
      "execution_count": 102,
      "outputs": [
        {
          "output_type": "stream",
          "text": [
            "Model: \"sequential_8\"\n",
            "_________________________________________________________________\n",
            "Layer (type)                 Output Shape              Param #   \n",
            "=================================================================\n",
            "embedding_4 (Embedding)      (None, 100, 50)           172650    \n",
            "_________________________________________________________________\n",
            "global_max_pooling1d (Global (None, 50)                0         \n",
            "_________________________________________________________________\n",
            "dense_16 (Dense)             (None, 10)                510       \n",
            "_________________________________________________________________\n",
            "dense_17 (Dense)             (None, 1)                 11        \n",
            "=================================================================\n",
            "Total params: 173,171\n",
            "Trainable params: 173,171\n",
            "Non-trainable params: 0\n",
            "_________________________________________________________________\n"
          ],
          "name": "stdout"
        }
      ]
    },
    {
      "cell_type": "markdown",
      "metadata": {
        "id": "3F1D1WEpEZ0l",
        "colab_type": "text"
      },
      "source": [
        "Keras model fit:"
      ]
    },
    {
      "cell_type": "code",
      "metadata": {
        "id": "DYqbSIazEbrI",
        "colab_type": "code",
        "colab": {
          "base_uri": "https://localhost:8080/",
          "height": 1000
        },
        "outputId": "7ff5e969-eddd-4a3f-9f45-66818c4811ba"
      },
      "source": [
        "history = model.fit(X_train, y_train, batch_size = 10, epochs = 65, verbose = True, validation_data = (X_test, y_test))"
      ],
      "execution_count": 103,
      "outputs": [
        {
          "output_type": "stream",
          "text": [
            "Epoch 1/65\n",
            "80/80 [==============================] - 0s 4ms/step - loss: 0.6622 - accuracy: 0.7138 - val_loss: 0.6481 - val_accuracy: 0.6950\n",
            "Epoch 2/65\n",
            "80/80 [==============================] - 0s 2ms/step - loss: 0.6215 - accuracy: 0.7362 - val_loss: 0.6283 - val_accuracy: 0.6950\n",
            "Epoch 3/65\n",
            "80/80 [==============================] - 0s 2ms/step - loss: 0.6002 - accuracy: 0.7362 - val_loss: 0.6191 - val_accuracy: 0.6950\n",
            "Epoch 4/65\n",
            "80/80 [==============================] - 0s 2ms/step - loss: 0.5888 - accuracy: 0.7362 - val_loss: 0.6159 - val_accuracy: 0.6950\n",
            "Epoch 5/65\n",
            "80/80 [==============================] - 0s 2ms/step - loss: 0.5828 - accuracy: 0.7362 - val_loss: 0.6152 - val_accuracy: 0.6950\n",
            "Epoch 6/65\n",
            "80/80 [==============================] - 0s 2ms/step - loss: 0.5799 - accuracy: 0.7362 - val_loss: 0.6157 - val_accuracy: 0.6950\n",
            "Epoch 7/65\n",
            "80/80 [==============================] - 0s 2ms/step - loss: 0.5784 - accuracy: 0.7362 - val_loss: 0.6164 - val_accuracy: 0.6950\n",
            "Epoch 8/65\n",
            "80/80 [==============================] - 0s 2ms/step - loss: 0.5775 - accuracy: 0.7362 - val_loss: 0.6170 - val_accuracy: 0.6950\n",
            "Epoch 9/65\n",
            "80/80 [==============================] - 0s 2ms/step - loss: 0.5770 - accuracy: 0.7362 - val_loss: 0.6177 - val_accuracy: 0.6950\n",
            "Epoch 10/65\n",
            "80/80 [==============================] - 0s 3ms/step - loss: 0.5766 - accuracy: 0.7362 - val_loss: 0.6181 - val_accuracy: 0.6950\n",
            "Epoch 11/65\n",
            "80/80 [==============================] - 0s 2ms/step - loss: 0.5764 - accuracy: 0.7362 - val_loss: 0.6186 - val_accuracy: 0.6950\n",
            "Epoch 12/65\n",
            "80/80 [==============================] - 0s 3ms/step - loss: 0.5761 - accuracy: 0.7362 - val_loss: 0.6189 - val_accuracy: 0.6950\n",
            "Epoch 13/65\n",
            "80/80 [==============================] - 0s 2ms/step - loss: 0.5760 - accuracy: 0.7362 - val_loss: 0.6187 - val_accuracy: 0.6950\n",
            "Epoch 14/65\n",
            "80/80 [==============================] - 0s 2ms/step - loss: 0.5758 - accuracy: 0.7362 - val_loss: 0.6189 - val_accuracy: 0.6950\n",
            "Epoch 15/65\n",
            "80/80 [==============================] - 0s 2ms/step - loss: 0.5756 - accuracy: 0.7362 - val_loss: 0.6188 - val_accuracy: 0.6950\n",
            "Epoch 16/65\n",
            "80/80 [==============================] - 0s 2ms/step - loss: 0.5755 - accuracy: 0.7362 - val_loss: 0.6189 - val_accuracy: 0.6950\n",
            "Epoch 17/65\n",
            "80/80 [==============================] - 0s 2ms/step - loss: 0.5753 - accuracy: 0.7362 - val_loss: 0.6191 - val_accuracy: 0.6950\n",
            "Epoch 18/65\n",
            "80/80 [==============================] - 0s 3ms/step - loss: 0.5751 - accuracy: 0.7362 - val_loss: 0.6190 - val_accuracy: 0.6950\n",
            "Epoch 19/65\n",
            "80/80 [==============================] - 0s 2ms/step - loss: 0.5750 - accuracy: 0.7362 - val_loss: 0.6189 - val_accuracy: 0.6950\n",
            "Epoch 20/65\n",
            "80/80 [==============================] - 0s 2ms/step - loss: 0.5748 - accuracy: 0.7362 - val_loss: 0.6188 - val_accuracy: 0.6950\n",
            "Epoch 21/65\n",
            "80/80 [==============================] - 0s 2ms/step - loss: 0.5746 - accuracy: 0.7362 - val_loss: 0.6186 - val_accuracy: 0.6950\n",
            "Epoch 22/65\n",
            "80/80 [==============================] - 0s 2ms/step - loss: 0.5744 - accuracy: 0.7362 - val_loss: 0.6185 - val_accuracy: 0.6950\n",
            "Epoch 23/65\n",
            "80/80 [==============================] - 0s 2ms/step - loss: 0.5743 - accuracy: 0.7362 - val_loss: 0.6183 - val_accuracy: 0.6950\n",
            "Epoch 24/65\n",
            "80/80 [==============================] - 0s 2ms/step - loss: 0.5741 - accuracy: 0.7362 - val_loss: 0.6184 - val_accuracy: 0.6950\n",
            "Epoch 25/65\n",
            "80/80 [==============================] - 0s 2ms/step - loss: 0.5739 - accuracy: 0.7362 - val_loss: 0.6185 - val_accuracy: 0.6950\n",
            "Epoch 26/65\n",
            "80/80 [==============================] - 0s 2ms/step - loss: 0.5737 - accuracy: 0.7362 - val_loss: 0.6187 - val_accuracy: 0.6950\n",
            "Epoch 27/65\n",
            "80/80 [==============================] - 0s 2ms/step - loss: 0.5735 - accuracy: 0.7362 - val_loss: 0.6184 - val_accuracy: 0.6950\n",
            "Epoch 28/65\n",
            "80/80 [==============================] - 0s 2ms/step - loss: 0.5733 - accuracy: 0.7362 - val_loss: 0.6182 - val_accuracy: 0.6950\n",
            "Epoch 29/65\n",
            "80/80 [==============================] - 0s 2ms/step - loss: 0.5731 - accuracy: 0.7362 - val_loss: 0.6182 - val_accuracy: 0.6950\n",
            "Epoch 30/65\n",
            "80/80 [==============================] - 0s 2ms/step - loss: 0.5729 - accuracy: 0.7362 - val_loss: 0.6181 - val_accuracy: 0.6950\n",
            "Epoch 31/65\n",
            "80/80 [==============================] - 0s 2ms/step - loss: 0.5726 - accuracy: 0.7362 - val_loss: 0.6178 - val_accuracy: 0.6950\n",
            "Epoch 32/65\n",
            "80/80 [==============================] - 0s 2ms/step - loss: 0.5724 - accuracy: 0.7362 - val_loss: 0.6178 - val_accuracy: 0.6950\n",
            "Epoch 33/65\n",
            "80/80 [==============================] - 0s 2ms/step - loss: 0.5721 - accuracy: 0.7362 - val_loss: 0.6179 - val_accuracy: 0.6950\n",
            "Epoch 34/65\n",
            "80/80 [==============================] - 0s 2ms/step - loss: 0.5718 - accuracy: 0.7362 - val_loss: 0.6179 - val_accuracy: 0.6950\n",
            "Epoch 35/65\n",
            "80/80 [==============================] - 0s 2ms/step - loss: 0.5715 - accuracy: 0.7362 - val_loss: 0.6176 - val_accuracy: 0.6950\n",
            "Epoch 36/65\n",
            "80/80 [==============================] - 0s 2ms/step - loss: 0.5712 - accuracy: 0.7362 - val_loss: 0.6177 - val_accuracy: 0.6950\n",
            "Epoch 37/65\n",
            "80/80 [==============================] - 0s 2ms/step - loss: 0.5708 - accuracy: 0.7362 - val_loss: 0.6175 - val_accuracy: 0.6950\n",
            "Epoch 38/65\n",
            "80/80 [==============================] - 0s 2ms/step - loss: 0.5704 - accuracy: 0.7362 - val_loss: 0.6177 - val_accuracy: 0.6950\n",
            "Epoch 39/65\n",
            "80/80 [==============================] - 0s 2ms/step - loss: 0.5700 - accuracy: 0.7362 - val_loss: 0.6177 - val_accuracy: 0.6950\n",
            "Epoch 40/65\n",
            "80/80 [==============================] - 0s 2ms/step - loss: 0.5697 - accuracy: 0.7362 - val_loss: 0.6173 - val_accuracy: 0.6950\n",
            "Epoch 41/65\n",
            "80/80 [==============================] - 0s 2ms/step - loss: 0.5693 - accuracy: 0.7362 - val_loss: 0.6171 - val_accuracy: 0.6950\n",
            "Epoch 42/65\n",
            "80/80 [==============================] - 0s 2ms/step - loss: 0.5690 - accuracy: 0.7362 - val_loss: 0.6170 - val_accuracy: 0.6950\n",
            "Epoch 43/65\n",
            "80/80 [==============================] - 0s 2ms/step - loss: 0.5686 - accuracy: 0.7362 - val_loss: 0.6168 - val_accuracy: 0.6950\n",
            "Epoch 44/65\n",
            "80/80 [==============================] - 0s 2ms/step - loss: 0.5681 - accuracy: 0.7362 - val_loss: 0.6167 - val_accuracy: 0.6950\n",
            "Epoch 45/65\n",
            "80/80 [==============================] - 0s 2ms/step - loss: 0.5677 - accuracy: 0.7362 - val_loss: 0.6166 - val_accuracy: 0.6950\n",
            "Epoch 46/65\n",
            "80/80 [==============================] - 0s 2ms/step - loss: 0.5673 - accuracy: 0.7362 - val_loss: 0.6163 - val_accuracy: 0.6950\n",
            "Epoch 47/65\n",
            "80/80 [==============================] - 0s 2ms/step - loss: 0.5668 - accuracy: 0.7362 - val_loss: 0.6159 - val_accuracy: 0.6950\n",
            "Epoch 48/65\n",
            "80/80 [==============================] - 0s 2ms/step - loss: 0.5662 - accuracy: 0.7362 - val_loss: 0.6156 - val_accuracy: 0.6950\n",
            "Epoch 49/65\n",
            "80/80 [==============================] - 0s 2ms/step - loss: 0.5655 - accuracy: 0.7362 - val_loss: 0.6152 - val_accuracy: 0.6950\n",
            "Epoch 50/65\n",
            "80/80 [==============================] - 0s 3ms/step - loss: 0.5639 - accuracy: 0.7362 - val_loss: 0.6144 - val_accuracy: 0.6950\n",
            "Epoch 51/65\n",
            "80/80 [==============================] - 0s 2ms/step - loss: 0.5630 - accuracy: 0.7362 - val_loss: 0.6136 - val_accuracy: 0.6950\n",
            "Epoch 52/65\n",
            "80/80 [==============================] - 0s 2ms/step - loss: 0.5621 - accuracy: 0.7362 - val_loss: 0.6131 - val_accuracy: 0.6950\n",
            "Epoch 53/65\n",
            "80/80 [==============================] - 0s 2ms/step - loss: 0.5611 - accuracy: 0.7362 - val_loss: 0.6129 - val_accuracy: 0.6950\n",
            "Epoch 54/65\n",
            "80/80 [==============================] - 0s 2ms/step - loss: 0.5603 - accuracy: 0.7362 - val_loss: 0.6127 - val_accuracy: 0.6950\n",
            "Epoch 55/65\n",
            "80/80 [==============================] - 0s 2ms/step - loss: 0.5594 - accuracy: 0.7362 - val_loss: 0.6123 - val_accuracy: 0.6950\n",
            "Epoch 56/65\n",
            "80/80 [==============================] - 0s 2ms/step - loss: 0.5583 - accuracy: 0.7362 - val_loss: 0.6118 - val_accuracy: 0.6950\n",
            "Epoch 57/65\n",
            "80/80 [==============================] - 0s 2ms/step - loss: 0.5572 - accuracy: 0.7362 - val_loss: 0.6114 - val_accuracy: 0.6950\n",
            "Epoch 58/65\n",
            "80/80 [==============================] - 0s 2ms/step - loss: 0.5562 - accuracy: 0.7362 - val_loss: 0.6108 - val_accuracy: 0.6950\n",
            "Epoch 59/65\n",
            "80/80 [==============================] - 0s 2ms/step - loss: 0.5551 - accuracy: 0.7362 - val_loss: 0.6109 - val_accuracy: 0.6950\n",
            "Epoch 60/65\n",
            "80/80 [==============================] - 0s 2ms/step - loss: 0.5539 - accuracy: 0.7362 - val_loss: 0.6103 - val_accuracy: 0.6950\n",
            "Epoch 61/65\n",
            "80/80 [==============================] - 0s 2ms/step - loss: 0.5527 - accuracy: 0.7362 - val_loss: 0.6099 - val_accuracy: 0.6950\n",
            "Epoch 62/65\n",
            "80/80 [==============================] - 0s 2ms/step - loss: 0.5513 - accuracy: 0.7362 - val_loss: 0.6090 - val_accuracy: 0.6950\n",
            "Epoch 63/65\n",
            "80/80 [==============================] - 0s 2ms/step - loss: 0.5499 - accuracy: 0.7362 - val_loss: 0.6087 - val_accuracy: 0.6950\n",
            "Epoch 64/65\n",
            "80/80 [==============================] - 0s 2ms/step - loss: 0.5485 - accuracy: 0.7362 - val_loss: 0.6083 - val_accuracy: 0.6950\n",
            "Epoch 65/65\n",
            "80/80 [==============================] - 0s 2ms/step - loss: 0.5469 - accuracy: 0.7362 - val_loss: 0.6070 - val_accuracy: 0.6950\n"
          ],
          "name": "stdout"
        }
      ]
    },
    {
      "cell_type": "markdown",
      "metadata": {
        "id": "0wKsQXM2LE1L",
        "colab_type": "text"
      },
      "source": [
        "Model evaluation:"
      ]
    },
    {
      "cell_type": "code",
      "metadata": {
        "id": "G3eYoiLMLHOZ",
        "colab_type": "code",
        "colab": {
          "base_uri": "https://localhost:8080/",
          "height": 52
        },
        "outputId": "a0817724-a470-44a0-b755-69106579147e"
      },
      "source": [
        "loss, accuracy = model.evaluate(X_train, y_train, verbose = False)\n",
        "print(\"Training Accuracy: {:.4f}\".format(accuracy))\n",
        "loss, accuracy = model.evaluate(X_test, y_test, verbose = False)\n",
        "print(\"Testing Accuracy:  {:.4f}\".format(accuracy))"
      ],
      "execution_count": 104,
      "outputs": [
        {
          "output_type": "stream",
          "text": [
            "Training Accuracy: 0.7362\n",
            "Testing Accuracy:  0.6950\n"
          ],
          "name": "stdout"
        }
      ]
    },
    {
      "cell_type": "markdown",
      "metadata": {
        "id": "Kr-aiA1pLprP",
        "colab_type": "text"
      },
      "source": [
        "Confusion matrix:"
      ]
    },
    {
      "cell_type": "code",
      "metadata": {
        "id": "CF5EHn1sLp-u",
        "colab_type": "code",
        "colab": {
          "base_uri": "https://localhost:8080/",
          "height": 52
        },
        "outputId": "e162deca-ca4a-47da-aac3-daf64a8234e0"
      },
      "source": [
        "# confusion matrix\n",
        "from sklearn.metrics import confusion_matrix\n",
        "from sklearn.metrics import plot_confusion_matrix\n",
        "\n",
        "pred_labels = model.predict_classes(X_test)\n",
        "conf_matrix = confusion_matrix(y_test, pred_labels)\n",
        "plt\n",
        "print(conf_matrix)"
      ],
      "execution_count": 105,
      "outputs": [
        {
          "output_type": "stream",
          "text": [
            "[[139   0]\n",
            " [ 61   0]]\n"
          ],
          "name": "stdout"
        }
      ]
    },
    {
      "cell_type": "markdown",
      "metadata": {
        "id": "fDu5CYynLViU",
        "colab_type": "text"
      },
      "source": [
        "Plotting model evaluation:"
      ]
    },
    {
      "cell_type": "code",
      "metadata": {
        "id": "-V2VokaALX9_",
        "colab_type": "code",
        "colab": {
          "base_uri": "https://localhost:8080/",
          "height": 337
        },
        "outputId": "f649de4e-a1d4-4111-f198-f8a7b8e6ae03"
      },
      "source": [
        "import matplotlib.pyplot as plt\n",
        "plt.style.use('ggplot')\n",
        "\n",
        "def plot_history(history):\n",
        "    acc = history.history['accuracy']\n",
        "    val_acc = history.history['val_accuracy']\n",
        "    loss = history.history['loss']\n",
        "    val_loss = history.history['val_loss']\n",
        "    x = range(1, len(acc) + 1)\n",
        "\n",
        "    plt.figure(figsize=(12, 5))\n",
        "    plt.subplot(1, 2, 1)\n",
        "    plt.plot(x, acc, 'b', label='Training acc')\n",
        "    plt.plot(x, val_acc, 'r', label='Validation acc')\n",
        "    plt.title('Training and validation accuracy')\n",
        "    plt.legend()\n",
        "    plt.subplot(1, 2, 2)\n",
        "    plt.plot(x, loss, 'b', label='Training loss')\n",
        "    plt.plot(x, val_loss, 'r', label='Validation loss')\n",
        "    plt.title('Training and validation loss')\n",
        "    plt.legend()\n",
        "\n",
        "plot_history(history)"
      ],
      "execution_count": 106,
      "outputs": [
        {
          "output_type": "display_data",
          "data": {
            "image/png": "[encoded data removed]",
            "text/plain": [
              "<Figure size 864x360 with 2 Axes>"
            ]
          },
          "metadata": {
            "tags": []
          }
        }
      ]
    }
  ]
}