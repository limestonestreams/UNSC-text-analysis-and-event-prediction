{
  "nbformat": 4,
  "nbformat_minor": 0,
  "metadata": {
    "colab": {
      "name": "BERT_preprocessing.ipynb",
      "provenance": [],
      "collapsed_sections": [],
      "authorship_tag": "ABX9TyO//TrPgvV2kjztMRxLlivv",
      "include_colab_link": true
    },
    "kernelspec": {
      "name": "python3",
      "display_name": "Python 3"
    }
  },
  "cells": [
    {
      "cell_type": "markdown",
      "metadata": {
        "id": "view-in-github",
        "colab_type": "text"
      },
      "source": [
        "<a href=\"https://colab.research.google.com/github/limestonestreams/thesis/blob/master/BERT_preprocessing.ipynb\" target=\"_parent\"><img src=\"https://colab.research.google.com/assets/colab-badge.svg\" alt=\"Open In Colab\"/></a>"
      ]
    },
    {
      "cell_type": "markdown",
      "metadata": {
        "id": "p8ldibdUAPUO",
        "colab_type": "text"
      },
      "source": [
        "To wrap output text, applies to every cell. (from https://stackoverflow.com/questions/58890109/line-wrapping-in-collaboratory-google-results)"
      ]
    },
    {
      "cell_type": "code",
      "metadata": {
        "id": "XhZVhX3nAOZG",
        "colab_type": "code",
        "colab": {}
      },
      "source": [
        "from IPython.display import HTML, display\n",
        "\n",
        "def set_css():\n",
        "  display(HTML('''\n",
        "  <style>\n",
        "    pre {\n",
        "        white-space: pre-wrap;\n",
        "    }\n",
        "  </style>\n",
        "  '''))\n",
        "get_ipython().events.register('pre_run_cell', set_css)"
      ],
      "execution_count": 1,
      "outputs": []
    },
    {
      "cell_type": "markdown",
      "metadata": {
        "id": "sSFzoirwfiyu",
        "colab_type": "text"
      },
      "source": [
        "Connecting to google drive:"
      ]
    },
    {
      "cell_type": "code",
      "metadata": {
        "id": "WN10mgzTfWVd",
        "colab_type": "code",
        "colab": {
          "base_uri": "https://localhost:8080/",
          "height": 35
        },
        "outputId": "91ecad4f-85ed-4fb3-d9ea-79525404e734"
      },
      "source": [
        "from google.colab import drive\n",
        "drive.mount('/content/gdrive')"
      ],
      "execution_count": 2,
      "outputs": [
        {
          "output_type": "display_data",
          "data": {
            "text/html": [
              "\n",
              "  <style>\n",
              "    pre {\n",
              "        white-space: pre-wrap;\n",
              "    }\n",
              "  </style>\n",
              "  "
            ],
            "text/plain": [
              "<IPython.core.display.HTML object>"
            ]
          },
          "metadata": {
            "tags": []
          }
        },
        {
          "output_type": "stream",
          "text": [
            "Drive already mounted at /content/gdrive; to attempt to forcibly remount, call drive.mount(\"/content/gdrive\", force_remount=True).\n"
          ],
          "name": "stdout"
        }
      ]
    },
    {
      "cell_type": "markdown",
      "metadata": {
        "id": "daidtjFHfmFU",
        "colab_type": "text"
      },
      "source": [
        "Importing dictionary of datasets for each topic:"
      ]
    },
    {
      "cell_type": "code",
      "metadata": {
        "id": "kVFvz_IxfoK9",
        "colab_type": "code",
        "colab": {
          "base_uri": "https://localhost:8080/",
          "height": 17
        },
        "outputId": "3fba5e93-e481-405a-ceb0-b6c5191be526"
      },
      "source": [
        "import pickle\n",
        "import pandas as pd\n",
        "import numpy as np\n",
        "\n",
        "with open('/content/gdrive/My Drive/Colab files/all_datasets', 'rb') as f:\n",
        "   d = pickle.load(f)"
      ],
      "execution_count": 3,
      "outputs": [
        {
          "output_type": "display_data",
          "data": {
            "text/html": [
              "\n",
              "  <style>\n",
              "    pre {\n",
              "        white-space: pre-wrap;\n",
              "    }\n",
              "  </style>\n",
              "  "
            ],
            "text/plain": [
              "<IPython.core.display.HTML object>"
            ]
          },
          "metadata": {
            "tags": []
          }
        }
      ]
    },
    {
      "cell_type": "code",
      "metadata": {
        "id": "Tgr6sEsifyD-",
        "colab_type": "code",
        "colab": {
          "base_uri": "https://localhost:8080/",
          "height": 173
        },
        "outputId": "83376eb2-a360-4851-a447-2c63e84cb13a"
      },
      "source": [
        "conflicts = ['Afghanistan', 'Albania', 'Angola', 'Bosnia-Herzegovina', 'Burundi', 'Central African Republic',\n",
        "             'Colombia', 'Croatia', 'DR Congo (Zaire)', 'El Salvador', 'Georgia', 'Guatemala', 'Guinea-Bissau', \n",
        "             'Haiti', 'Honduras', 'Iraq', 'Lebanon', 'Liberia', 'Macedonia, FYR', 'Mali', 'Myanmar (Burma)', \n",
        "             'Papua New Guinea', 'Rwanda', 'Serbia (Yugoslavia)', 'Sierra Leone', 'Somalia', 'Sudan', 'Tajikistan',\n",
        "             'Uganda', 'Ukraine', 'Venezuela']\n",
        "\n",
        "\n",
        "for i in conflicts:\n",
        "    k = str(i).lower()\n",
        "    x = d[k]\n",
        "    #remove from the dictionary and the conflict array countries with no events\n",
        "    if 1 not in set(x['event']): \n",
        "      print(f\"{i} does not have any events.\")\n",
        "      d.pop(k)\n",
        "      conflicts.remove(i)\n",
        "\n",
        "print(conflicts)\n"
      ],
      "execution_count": 4,
      "outputs": [
        {
          "output_type": "display_data",
          "data": {
            "text/html": [
              "\n",
              "  <style>\n",
              "    pre {\n",
              "        white-space: pre-wrap;\n",
              "    }\n",
              "  </style>\n",
              "  "
            ],
            "text/plain": [
              "<IPython.core.display.HTML object>"
            ]
          },
          "metadata": {
            "tags": []
          }
        },
        {
          "output_type": "stream",
          "text": [
            "Albania does not have any events.\n",
            "Bosnia-Herzegovina does not have any events.\n",
            "El Salvador does not have any events.\n",
            "Guatemala does not have any events.\n",
            "Honduras does not have any events.\n",
            "Papua New Guinea does not have any events.\n",
            "['Afghanistan', 'Angola', 'Burundi', 'Central African Republic', 'Colombia', 'Croatia', 'DR Congo (Zaire)', 'Georgia', 'Guinea-Bissau', 'Haiti', 'Iraq', 'Lebanon', 'Liberia', 'Macedonia, FYR', 'Mali', 'Myanmar (Burma)', 'Rwanda', 'Serbia (Yugoslavia)', 'Sierra Leone', 'Somalia', 'Sudan', 'Tajikistan', 'Uganda', 'Ukraine', 'Venezuela']\n"
          ],
          "name": "stdout"
        }
      ]
    },
    {
      "cell_type": "code",
      "metadata": {
        "id": "cXXbqePqYN1Z",
        "colab_type": "code",
        "colab": {
          "base_uri": "https://localhost:8080/",
          "height": 1000
        },
        "outputId": "d9f25085-41a0-4171-c2b7-a8111eae269d"
      },
      "source": [
        "for i in conflicts:\n",
        "      k = str(i).lower()\n",
        "      x = d[k]\n",
        "      #print(f\"{i} has {set(x['event'])} events.\")\n",
        "      #check dummy for whether there is a meeting on that date\n",
        "      x['meeting'] = x['meeting'].fillna(0)\n",
        "      print(f'For {i} the meeting numbers are:')\n",
        "      print(x['meeting'].value_counts())\n",
        "        #Sudan, DRC, and Angola look good to run predictions on.\n",
        "        #Sudan, Iraq, Afghanistan\n",
        "      d[k] = x"
      ],
      "execution_count": 5,
      "outputs": [
        {
          "output_type": "display_data",
          "data": {
            "text/html": [
              "\n",
              "  <style>\n",
              "    pre {\n",
              "        white-space: pre-wrap;\n",
              "    }\n",
              "  </style>\n",
              "  "
            ],
            "text/plain": [
              "<IPython.core.display.HTML object>"
            ]
          },
          "metadata": {
            "tags": []
          }
        },
        {
          "output_type": "stream",
          "text": [
            "For Afghanistan the meeting numbers are:\n",
            "0.0    34533\n",
            "1.0      445\n",
            "Name: meeting, dtype: int64\n",
            "For Angola the meeting numbers are:\n",
            "0.0    2941\n",
            "1.0      35\n",
            "Name: meeting, dtype: int64\n",
            "For Burundi the meeting numbers are:\n",
            "0.0    9099\n",
            "1.0      55\n",
            "Name: meeting, dtype: int64\n",
            "For Central African Republic the meeting numbers are:\n",
            "0.0    8631\n",
            "1.0      71\n",
            "Name: meeting, dtype: int64\n",
            "For Colombia the meeting numbers are:\n",
            "0.0    1358\n",
            "1.0      18\n",
            "Name: meeting, dtype: int64\n",
            "For Croatia the meeting numbers are:\n",
            "0.0    961\n",
            "1.0      7\n",
            "Name: meeting, dtype: int64\n",
            "For DR Congo (Zaire) the meeting numbers are:\n",
            "0.0    9978\n",
            "1.0     106\n",
            "Name: meeting, dtype: int64\n",
            "For Georgia the meeting numbers are:\n",
            "0.0    5266\n",
            "1.0      18\n",
            "Name: meeting, dtype: int64\n",
            "For Guinea-Bissau the meeting numbers are:\n",
            "0.0    7071\n",
            "1.0      42\n",
            "Name: meeting, dtype: int64\n",
            "For Haiti the meeting numbers are:\n",
            "0.0    8981\n",
            "1.0      54\n",
            "Name: meeting, dtype: int64\n",
            "For Iraq the meeting numbers are:\n",
            "0.0    10961\n",
            "1.0      120\n",
            "Name: meeting, dtype: int64\n",
            "For Lebanon the meeting numbers are:\n",
            "0.0    3231\n",
            "1.0       6\n",
            "Name: meeting, dtype: int64\n",
            "For Liberia the meeting numbers are:\n",
            "0.0    8530\n",
            "1.0      37\n",
            "Name: meeting, dtype: int64\n",
            "For Macedonia, FYR the meeting numbers are:\n",
            "0.0    1927\n",
            "1.0       8\n",
            "Name: meeting, dtype: int64\n",
            "For Mali the meeting numbers are:\n",
            "0.0    2662\n",
            "1.0      44\n",
            "Name: meeting, dtype: int64\n",
            "For Myanmar (Burma) the meeting numbers are:\n",
            "0.0    4969\n",
            "1.0      13\n",
            "Name: meeting, dtype: int64\n",
            "For Rwanda the meeting numbers are:\n",
            "0.0    4356\n",
            "1.0      10\n",
            "Name: meeting, dtype: int64\n",
            "For Serbia (Yugoslavia) the meeting numbers are:\n",
            "0.0    229\n",
            "1.0      2\n",
            "Name: meeting, dtype: int64\n",
            "For Sierra Leone the meeting numbers are:\n",
            "0.0    6484\n",
            "1.0      44\n",
            "Name: meeting, dtype: int64\n",
            "For Somalia the meeting numbers are:\n",
            "0.0    10394\n",
            "1.0      135\n",
            "Name: meeting, dtype: int64\n",
            "For Sudan the meeting numbers are:\n",
            "0.0    7317\n",
            "1.0     223\n",
            "Name: meeting, dtype: int64\n",
            "For Tajikistan the meeting numbers are:\n",
            "0.0    1816\n",
            "1.0      11\n",
            "Name: meeting, dtype: int64\n",
            "For Uganda the meeting numbers are:\n",
            "0.0    8\n",
            "1.0    1\n",
            "Name: meeting, dtype: int64\n",
            "For Ukraine the meeting numbers are:\n",
            "0.0    2310\n",
            "1.0      48\n",
            "Name: meeting, dtype: int64\n",
            "For Venezuela the meeting numbers are:\n",
            "0.0    78\n",
            "1.0     4\n",
            "Name: meeting, dtype: int64\n"
          ],
          "name": "stdout"
        }
      ]
    },
    {
      "cell_type": "code",
      "metadata": {
        "id": "R72-jl8RYXns",
        "colab_type": "code",
        "colab": {
          "base_uri": "https://localhost:8080/",
          "height": 17
        },
        "outputId": "4ada7267-8be7-4cd8-bfa1-4866a06552df"
      },
      "source": [
        "for i in conflicts:\n",
        "    k = str(i).lower()\n",
        "    x = d[k]\n",
        "    #remove meetings with lower than 250 words (likely only procedural)      \n",
        "    x = x[(x['meeting'] == 0) | (x['word_count'] >= 250)]\n",
        "    d[k] = x"
      ],
      "execution_count": 6,
      "outputs": [
        {
          "output_type": "display_data",
          "data": {
            "text/html": [
              "\n",
              "  <style>\n",
              "    pre {\n",
              "        white-space: pre-wrap;\n",
              "    }\n",
              "  </style>\n",
              "  "
            ],
            "text/plain": [
              "<IPython.core.display.HTML object>"
            ]
          },
          "metadata": {
            "tags": []
          }
        }
      ]
    },
    {
      "cell_type": "code",
      "metadata": {
        "id": "Are3qHdFQ4IJ",
        "colab_type": "code",
        "colab": {
          "base_uri": "https://localhost:8080/",
          "height": 87
        },
        "outputId": "fcbbcce2-77d2-4ca1-ebaf-93f8a999ce24"
      },
      "source": [
        "print(f'For Afghanistan the meeting numbers are:')\n",
        "print(d['afghanistan']['meeting'].value_counts())\n",
        "#d['afghanistan']"
      ],
      "execution_count": 7,
      "outputs": [
        {
          "output_type": "display_data",
          "data": {
            "text/html": [
              "\n",
              "  <style>\n",
              "    pre {\n",
              "        white-space: pre-wrap;\n",
              "    }\n",
              "  </style>\n",
              "  "
            ],
            "text/plain": [
              "<IPython.core.display.HTML object>"
            ]
          },
          "metadata": {
            "tags": []
          }
        },
        {
          "output_type": "stream",
          "text": [
            "For Afghanistan the meeting numbers are:\n",
            "0.0    34533\n",
            "1.0      432\n",
            "Name: meeting, dtype: int64\n"
          ],
          "name": "stdout"
        }
      ]
    },
    {
      "cell_type": "code",
      "metadata": {
        "id": "H-MONOisbwrc",
        "colab_type": "code",
        "colab": {
          "base_uri": "https://localhost:8080/",
          "height": 173
        },
        "outputId": "4ad0cd6f-6a54-4717-cd84-5445bdbc9d35"
      },
      "source": [
        "x = d['afghanistan'].groupby('text')['date'].nunique()\n",
        "\n",
        "x.describe()"
      ],
      "execution_count": 8,
      "outputs": [
        {
          "output_type": "display_data",
          "data": {
            "text/html": [
              "\n",
              "  <style>\n",
              "    pre {\n",
              "        white-space: pre-wrap;\n",
              "    }\n",
              "  </style>\n",
              "  "
            ],
            "text/plain": [
              "<IPython.core.display.HTML object>"
            ]
          },
          "metadata": {
            "tags": []
          }
        },
        {
          "output_type": "execute_result",
          "data": {
            "text/plain": [
              "count    86.0\n",
              "mean      1.0\n",
              "std       0.0\n",
              "min       1.0\n",
              "25%       1.0\n",
              "50%       1.0\n",
              "75%       1.0\n",
              "max       1.0\n",
              "Name: date, dtype: float64"
            ]
          },
          "metadata": {
            "tags": []
          },
          "execution_count": 8
        }
      ]
    },
    {
      "cell_type": "code",
      "metadata": {
        "id": "pqtgfP35eoDF",
        "colab_type": "code",
        "colab": {
          "base_uri": "https://localhost:8080/",
          "height": 415
        },
        "outputId": "5b83a446-f3a2-4853-ea00-df78cc94a330"
      },
      "source": [
        "d['angola']"
      ],
      "execution_count": 9,
      "outputs": [
        {
          "output_type": "display_data",
          "data": {
            "text/html": [
              "\n",
              "  <style>\n",
              "    pre {\n",
              "        white-space: pre-wrap;\n",
              "    }\n",
              "  </style>\n",
              "  "
            ],
            "text/plain": [
              "<IPython.core.display.HTML object>"
            ]
          },
          "metadata": {
            "tags": []
          }
        },
        {
          "output_type": "execute_result",
          "data": {
            "text/html": [
              "<div>\n",
              "<style scoped>\n",
              "    .dataframe tbody tr th:only-of-type {\n",
              "        vertical-align: middle;\n",
              "    }\n",
              "\n",
              "    .dataframe tbody tr th {\n",
              "        vertical-align: top;\n",
              "    }\n",
              "\n",
              "    .dataframe thead th {\n",
              "        text-align: right;\n",
              "    }\n",
              "</style>\n",
              "<table border=\"1\" class=\"dataframe\">\n",
              "  <thead>\n",
              "    <tr style=\"text-align: right;\">\n",
              "      <th></th>\n",
              "      <th>date</th>\n",
              "      <th>topic</th>\n",
              "      <th>text</th>\n",
              "      <th>word_count</th>\n",
              "      <th>meeting</th>\n",
              "      <th>event</th>\n",
              "    </tr>\n",
              "  </thead>\n",
              "  <tbody>\n",
              "    <tr>\n",
              "      <th>0</th>\n",
              "      <td>1995-02-08</td>\n",
              "      <td>Angola</td>\n",
              "      <td>i begin by\\ncongratulating you, sir, on behalf...</td>\n",
              "      <td>31967.0</td>\n",
              "      <td>1.0</td>\n",
              "      <td>0.0</td>\n",
              "    </tr>\n",
              "    <tr>\n",
              "      <th>1</th>\n",
              "      <td>1995-02-09</td>\n",
              "      <td>NaN</td>\n",
              "      <td>NaN</td>\n",
              "      <td>NaN</td>\n",
              "      <td>0.0</td>\n",
              "      <td>0.0</td>\n",
              "    </tr>\n",
              "    <tr>\n",
              "      <th>2</th>\n",
              "      <td>1995-02-10</td>\n",
              "      <td>NaN</td>\n",
              "      <td>NaN</td>\n",
              "      <td>NaN</td>\n",
              "      <td>0.0</td>\n",
              "      <td>0.0</td>\n",
              "    </tr>\n",
              "    <tr>\n",
              "      <th>3</th>\n",
              "      <td>1995-02-11</td>\n",
              "      <td>NaN</td>\n",
              "      <td>NaN</td>\n",
              "      <td>NaN</td>\n",
              "      <td>0.0</td>\n",
              "      <td>0.0</td>\n",
              "    </tr>\n",
              "    <tr>\n",
              "      <th>4</th>\n",
              "      <td>1995-02-12</td>\n",
              "      <td>NaN</td>\n",
              "      <td>NaN</td>\n",
              "      <td>NaN</td>\n",
              "      <td>0.0</td>\n",
              "      <td>0.0</td>\n",
              "    </tr>\n",
              "    <tr>\n",
              "      <th>...</th>\n",
              "      <td>...</td>\n",
              "      <td>...</td>\n",
              "      <td>...</td>\n",
              "      <td>...</td>\n",
              "      <td>...</td>\n",
              "      <td>...</td>\n",
              "    </tr>\n",
              "    <tr>\n",
              "      <th>2971</th>\n",
              "      <td>2002-07-20</td>\n",
              "      <td>NaN</td>\n",
              "      <td>NaN</td>\n",
              "      <td>NaN</td>\n",
              "      <td>0.0</td>\n",
              "      <td>0.0</td>\n",
              "    </tr>\n",
              "    <tr>\n",
              "      <th>2972</th>\n",
              "      <td>2002-07-21</td>\n",
              "      <td>NaN</td>\n",
              "      <td>NaN</td>\n",
              "      <td>NaN</td>\n",
              "      <td>0.0</td>\n",
              "      <td>0.0</td>\n",
              "    </tr>\n",
              "    <tr>\n",
              "      <th>2973</th>\n",
              "      <td>2002-07-22</td>\n",
              "      <td>NaN</td>\n",
              "      <td>NaN</td>\n",
              "      <td>NaN</td>\n",
              "      <td>0.0</td>\n",
              "      <td>1.0</td>\n",
              "    </tr>\n",
              "    <tr>\n",
              "      <th>2974</th>\n",
              "      <td>2002-07-23</td>\n",
              "      <td>NaN</td>\n",
              "      <td>NaN</td>\n",
              "      <td>NaN</td>\n",
              "      <td>0.0</td>\n",
              "      <td>0.0</td>\n",
              "    </tr>\n",
              "    <tr>\n",
              "      <th>2975</th>\n",
              "      <td>2002-07-24</td>\n",
              "      <td>NaN</td>\n",
              "      <td>NaN</td>\n",
              "      <td>NaN</td>\n",
              "      <td>0.0</td>\n",
              "      <td>0.0</td>\n",
              "    </tr>\n",
              "  </tbody>\n",
              "</table>\n",
              "<p>2973 rows × 6 columns</p>\n",
              "</div>"
            ],
            "text/plain": [
              "           date   topic  ... meeting  event\n",
              "0    1995-02-08  Angola  ...     1.0    0.0\n",
              "1    1995-02-09     NaN  ...     0.0    0.0\n",
              "2    1995-02-10     NaN  ...     0.0    0.0\n",
              "3    1995-02-11     NaN  ...     0.0    0.0\n",
              "4    1995-02-12     NaN  ...     0.0    0.0\n",
              "...         ...     ...  ...     ...    ...\n",
              "2971 2002-07-20     NaN  ...     0.0    0.0\n",
              "2972 2002-07-21     NaN  ...     0.0    0.0\n",
              "2973 2002-07-22     NaN  ...     0.0    1.0\n",
              "2974 2002-07-23     NaN  ...     0.0    0.0\n",
              "2975 2002-07-24     NaN  ...     0.0    0.0\n",
              "\n",
              "[2973 rows x 6 columns]"
            ]
          },
          "metadata": {
            "tags": []
          },
          "execution_count": 9
        }
      ]
    },
    {
      "cell_type": "code",
      "metadata": {
        "id": "Jwzyox11YZOr",
        "colab_type": "code",
        "colab": {
          "base_uri": "https://localhost:8080/",
          "height": 17
        },
        "outputId": "48b19254-3746-4bb9-bd85-43bd2634b4d3"
      },
      "source": [
        "for i in conflicts:\n",
        "    k = str(i).lower()\n",
        "    x = d[k]\n",
        "    #removing duplicate rows \n",
        "    #(coming from multiple events on the same day which caused text duplicates when merging docs and events dataframes)\n",
        "    x.drop_duplicates(inplace = True)\n",
        "    x = x.reset_index(drop = True)   \n",
        "    d[k] = x  "
      ],
      "execution_count": 10,
      "outputs": [
        {
          "output_type": "display_data",
          "data": {
            "text/html": [
              "\n",
              "  <style>\n",
              "    pre {\n",
              "        white-space: pre-wrap;\n",
              "    }\n",
              "  </style>\n",
              "  "
            ],
            "text/plain": [
              "<IPython.core.display.HTML object>"
            ]
          },
          "metadata": {
            "tags": []
          }
        }
      ]
    },
    {
      "cell_type": "code",
      "metadata": {
        "id": "vvFRoG7LbcNr",
        "colab_type": "code",
        "colab": {
          "base_uri": "https://localhost:8080/",
          "height": 52
        },
        "outputId": "0d2fd00d-687b-4509-d738-b92d7f536aa3"
      },
      "source": [
        "%%time\n",
        "for i in conflicts:\n",
        "  #adding dummy for whether there is an event in the three days following each meeting\n",
        "  k = str(i).lower()\n",
        "  d[k]['label'] = ''\n",
        "  j = 0\n",
        "  while j+4 <= len(d[k].index):\n",
        "        d[k].iloc[j, 6] = np.where(sum(d[k].iloc[j+1:j+4, 5]) > 0, 1, 0)\n",
        "        j = j + 1"
      ],
      "execution_count": 11,
      "outputs": [
        {
          "output_type": "display_data",
          "data": {
            "text/html": [
              "\n",
              "  <style>\n",
              "    pre {\n",
              "        white-space: pre-wrap;\n",
              "    }\n",
              "  </style>\n",
              "  "
            ],
            "text/plain": [
              "<IPython.core.display.HTML object>"
            ]
          },
          "metadata": {
            "tags": []
          }
        },
        {
          "output_type": "stream",
          "text": [
            "CPU times: user 1min 16s, sys: 203 ms, total: 1min 16s\n",
            "Wall time: 1min 16s\n"
          ],
          "name": "stdout"
        }
      ]
    },
    {
      "cell_type": "code",
      "metadata": {
        "id": "fNPHCCIojokY",
        "colab_type": "code",
        "colab": {
          "base_uri": "https://localhost:8080/",
          "height": 1000
        },
        "outputId": "dcc1bba1-0188-4ced-8d81-f2981acad88d"
      },
      "source": [
        "for i in conflicts:\n",
        "  print(f\"For {i} the event labels are: \")\n",
        "  print(d[str(i).lower()]['label'].value_counts())"
      ],
      "execution_count": 12,
      "outputs": [
        {
          "output_type": "display_data",
          "data": {
            "text/html": [
              "\n",
              "  <style>\n",
              "    pre {\n",
              "        white-space: pre-wrap;\n",
              "    }\n",
              "  </style>\n",
              "  "
            ],
            "text/plain": [
              "<IPython.core.display.HTML object>"
            ]
          },
          "metadata": {
            "tags": []
          }
        },
        {
          "output_type": "stream",
          "text": [
            "For Afghanistan the event labels are: \n",
            "1    7543\n",
            "0    1110\n",
            "        3\n",
            "Name: label, dtype: int64\n",
            "For Angola the event labels are: \n",
            "0    1562\n",
            "1    1156\n",
            "        3\n",
            "Name: label, dtype: int64\n",
            "For Burundi the event labels are: \n",
            "0    6244\n",
            "1    2589\n",
            "        3\n",
            "Name: label, dtype: int64\n",
            "For Central African Republic the event labels are: \n",
            "0    6258\n",
            "1    1881\n",
            "        3\n",
            "Name: label, dtype: int64\n",
            "For Colombia the event labels are: \n",
            "0    1046\n",
            "1     313\n",
            "        3\n",
            "Name: label, dtype: int64\n",
            "For Croatia the event labels are: \n",
            "0    913\n",
            "1     38\n",
            "       3\n",
            "Name: label, dtype: int64\n",
            "For DR Congo (Zaire) the event labels are: \n",
            "1    4564\n",
            "0    3872\n",
            "        3\n",
            "Name: label, dtype: int64\n",
            "For Georgia the event labels are: \n",
            "0    5193\n",
            "1      80\n",
            "        3\n",
            "Name: label, dtype: int64\n",
            "For Guinea-Bissau the event labels are: \n",
            "0    7105\n",
            "1       3\n",
            "        3\n",
            "Name: label, dtype: int64\n",
            "For Haiti the event labels are: \n",
            "0    8952\n",
            "1      75\n",
            "        3\n",
            "Name: label, dtype: int64\n",
            "For Iraq the event labels are: \n",
            "1    5178\n",
            "0    2017\n",
            "        3\n",
            "Name: label, dtype: int64\n",
            "For Lebanon the event labels are: \n",
            "0    2684\n",
            "1     530\n",
            "        3\n",
            "Name: label, dtype: int64\n",
            "For Liberia the event labels are: \n",
            "0    8118\n",
            "1     380\n",
            "        3\n",
            "Name: label, dtype: int64\n",
            "For Macedonia, FYR the event labels are: \n",
            "0    1904\n",
            "1      25\n",
            "        3\n",
            "Name: label, dtype: int64\n",
            "For Mali the event labels are: \n",
            "0    1350\n",
            "1    1137\n",
            "        3\n",
            "Name: label, dtype: int64\n",
            "For Myanmar (Burma) the event labels are: \n",
            "0    2721\n",
            "1    1833\n",
            "        3\n",
            "Name: label, dtype: int64\n",
            "For Rwanda the event labels are: \n",
            "0    3937\n",
            "1     377\n",
            "        3\n",
            "Name: label, dtype: int64\n",
            "For Serbia (Yugoslavia) the event labels are: \n",
            "0    225\n",
            "1      3\n",
            "       3\n",
            "Name: label, dtype: int64\n",
            "For Sierra Leone the event labels are: \n",
            "0    5467\n",
            "1     635\n",
            "        3\n",
            "Name: label, dtype: int64\n",
            "For Somalia the event labels are: \n",
            "1    5263\n",
            "0    3401\n",
            "        3\n",
            "Name: label, dtype: int64\n",
            "For Sudan the event labels are: \n",
            "0    3375\n",
            "1    3281\n",
            "        3\n",
            "Name: label, dtype: int64\n",
            "For Tajikistan the event labels are: \n",
            "0    1553\n",
            "1     244\n",
            "        3\n",
            "Name: label, dtype: int64\n",
            "For Uganda the event labels are: \n",
            "1    3\n",
            "     3\n",
            "0    2\n",
            "Name: label, dtype: int64\n",
            "For Ukraine the event labels are: \n",
            "1    1349\n",
            "0     619\n",
            "        3\n",
            "Name: label, dtype: int64\n",
            "For Venezuela the event labels are: \n",
            "0    77\n",
            "      3\n",
            "1     2\n",
            "Name: label, dtype: int64\n"
          ],
          "name": "stdout"
        }
      ]
    },
    {
      "cell_type": "code",
      "metadata": {
        "id": "pofYyEQ3YcFh",
        "colab_type": "code",
        "colab": {
          "base_uri": "https://localhost:8080/",
          "height": 17
        },
        "outputId": "3d7b615a-5f08-43bb-ef47-9724e94fe991"
      },
      "source": [
        "for i in conflicts:\n",
        "    k = str(i).lower()\n",
        "    #getting rid of superflous columns\n",
        "    del d[k]['meeting']\n",
        "    del d[k]['date']\n",
        "    del d[k]['topic']\n",
        "    del d[k]['word_count']\n",
        "    del d[k]['event']"
      ],
      "execution_count": 13,
      "outputs": [
        {
          "output_type": "display_data",
          "data": {
            "text/html": [
              "\n",
              "  <style>\n",
              "    pre {\n",
              "        white-space: pre-wrap;\n",
              "    }\n",
              "  </style>\n",
              "  "
            ],
            "text/plain": [
              "<IPython.core.display.HTML object>"
            ]
          },
          "metadata": {
            "tags": []
          }
        }
      ]
    },
    {
      "cell_type": "code",
      "metadata": {
        "id": "sCdYQ-zwYdMA",
        "colab_type": "code",
        "colab": {
          "base_uri": "https://localhost:8080/",
          "height": 17
        },
        "outputId": "8dfa7160-570d-427b-9859-55883386fbf5"
      },
      "source": [
        "for i in conflicts:\n",
        "      k = str(i).lower()\n",
        "      #dropping last 3 rows\n",
        "      d[k] = d[k][:-3]"
      ],
      "execution_count": 14,
      "outputs": [
        {
          "output_type": "display_data",
          "data": {
            "text/html": [
              "\n",
              "  <style>\n",
              "    pre {\n",
              "        white-space: pre-wrap;\n",
              "    }\n",
              "  </style>\n",
              "  "
            ],
            "text/plain": [
              "<IPython.core.display.HTML object>"
            ]
          },
          "metadata": {
            "tags": []
          }
        }
      ]
    },
    {
      "cell_type": "code",
      "metadata": {
        "id": "WwCYRHbCuKU6",
        "colab_type": "code",
        "colab": {
          "base_uri": "https://localhost:8080/",
          "height": 763
        },
        "outputId": "038a8c8c-92f2-4930-a932-19d3309e0771"
      },
      "source": [
        "import re\n",
        "def clean_txt(text):\n",
        "  text = re.sub(\"'\", \"\", text)\n",
        "  #text=re.sub(\"(\\\\W)+\",\" \",text)\n",
        "  text = re.sub(r'\\n', ' ', text)    \n",
        "  return text\n",
        "\n",
        "for i in conflicts:\n",
        "  print(i)\n",
        "  k = str(i).lower()\n",
        "  d[k]['text'] = d[k]['text'].astype(str)\n",
        "  d[k]['text'] = d[k]['text'].apply(clean_txt)\n",
        "  d[k]['label'] = d[k]['label'].astype(int)\n"
      ],
      "execution_count": 15,
      "outputs": [
        {
          "output_type": "display_data",
          "data": {
            "text/html": [
              "\n",
              "  <style>\n",
              "    pre {\n",
              "        white-space: pre-wrap;\n",
              "    }\n",
              "  </style>\n",
              "  "
            ],
            "text/plain": [
              "<IPython.core.display.HTML object>"
            ]
          },
          "metadata": {
            "tags": []
          }
        },
        {
          "output_type": "stream",
          "text": [
            "Afghanistan\n",
            "Angola\n",
            "Burundi\n",
            "Central African Republic\n",
            "Colombia\n",
            "Croatia\n",
            "DR Congo (Zaire)\n",
            "Georgia\n",
            "Guinea-Bissau\n",
            "Haiti\n",
            "Iraq\n",
            "Lebanon\n",
            "Liberia\n",
            "Macedonia, FYR\n",
            "Mali\n",
            "Myanmar (Burma)\n",
            "Rwanda\n",
            "Serbia (Yugoslavia)\n",
            "Sierra Leone\n",
            "Somalia\n",
            "Sudan\n",
            "Tajikistan\n",
            "Uganda\n",
            "Ukraine\n",
            "Venezuela\n"
          ],
          "name": "stdout"
        },
        {
          "output_type": "stream",
          "text": [
            "/usr/local/lib/python3.6/dist-packages/ipykernel_launcher.py:11: SettingWithCopyWarning: \n",
            "A value is trying to be set on a copy of a slice from a DataFrame.\n",
            "Try using .loc[row_indexer,col_indexer] = value instead\n",
            "\n",
            "See the caveats in the documentation: https://pandas.pydata.org/pandas-docs/stable/user_guide/indexing.html#returning-a-view-versus-a-copy\n",
            "  # This is added back by InteractiveShellApp.init_path()\n",
            "/usr/local/lib/python3.6/dist-packages/ipykernel_launcher.py:12: SettingWithCopyWarning: \n",
            "A value is trying to be set on a copy of a slice from a DataFrame.\n",
            "Try using .loc[row_indexer,col_indexer] = value instead\n",
            "\n",
            "See the caveats in the documentation: https://pandas.pydata.org/pandas-docs/stable/user_guide/indexing.html#returning-a-view-versus-a-copy\n",
            "  if sys.path[0] == '':\n",
            "/usr/local/lib/python3.6/dist-packages/ipykernel_launcher.py:13: SettingWithCopyWarning: \n",
            "A value is trying to be set on a copy of a slice from a DataFrame.\n",
            "Try using .loc[row_indexer,col_indexer] = value instead\n",
            "\n",
            "See the caveats in the documentation: https://pandas.pydata.org/pandas-docs/stable/user_guide/indexing.html#returning-a-view-versus-a-copy\n",
            "  del sys.path[0]\n"
          ],
          "name": "stderr"
        }
      ]
    },
    {
      "cell_type": "code",
      "metadata": {
        "id": "915c6dRvMInB",
        "colab_type": "code",
        "colab": {
          "base_uri": "https://localhost:8080/",
          "height": 104
        },
        "outputId": "94c21c5e-89c0-4d89-db5e-3ad8369e9961"
      },
      "source": [
        "d['afghanistan']['text'].describe()"
      ],
      "execution_count": 16,
      "outputs": [
        {
          "output_type": "display_data",
          "data": {
            "text/html": [
              "\n",
              "  <style>\n",
              "    pre {\n",
              "        white-space: pre-wrap;\n",
              "    }\n",
              "  </style>\n",
              "  "
            ],
            "text/plain": [
              "<IPython.core.display.HTML object>"
            ]
          },
          "metadata": {
            "tags": []
          }
        },
        {
          "output_type": "execute_result",
          "data": {
            "text/plain": [
              "count     8653\n",
              "unique      87\n",
              "top        nan\n",
              "freq      8567\n",
              "Name: text, dtype: object"
            ]
          },
          "metadata": {
            "tags": []
          },
          "execution_count": 16
        }
      ]
    },
    {
      "cell_type": "markdown",
      "metadata": {
        "id": "N7R0nrl81nY0",
        "colab_type": "text"
      },
      "source": [
        "Removing empty text rows:"
      ]
    },
    {
      "cell_type": "code",
      "metadata": {
        "id": "01WDSW-D1nL3",
        "colab_type": "code",
        "colab": {
          "base_uri": "https://localhost:8080/",
          "height": 17
        },
        "outputId": "aa056571-c0a6-4270-e7c8-2d54aa221284"
      },
      "source": [
        "for i in conflicts:\n",
        "  k = str(i).lower()\n",
        "  x = d[k]\n",
        "  x = x[x.text != 'nan']\n",
        "  x.reset_index(drop = True, inplace = True)\n",
        "  d[k] = x"
      ],
      "execution_count": 17,
      "outputs": [
        {
          "output_type": "display_data",
          "data": {
            "text/html": [
              "\n",
              "  <style>\n",
              "    pre {\n",
              "        white-space: pre-wrap;\n",
              "    }\n",
              "  </style>\n",
              "  "
            ],
            "text/plain": [
              "<IPython.core.display.HTML object>"
            ]
          },
          "metadata": {
            "tags": []
          }
        }
      ]
    },
    {
      "cell_type": "markdown",
      "metadata": {
        "id": "-qhROckd5z-b",
        "colab_type": "text"
      },
      "source": [
        "From https://github.com/ArmandDS/bert_for_long_text/blob/master/final_bert_long_docs.ipynb:"
      ]
    },
    {
      "cell_type": "code",
      "metadata": {
        "id": "hgw986RT6oi2",
        "colab_type": "code",
        "colab": {
          "base_uri": "https://localhost:8080/",
          "height": 451
        },
        "outputId": "6626e05a-eba9-4b34-942c-85b64dcb3f31"
      },
      "source": [
        "conflicts"
      ],
      "execution_count": 18,
      "outputs": [
        {
          "output_type": "display_data",
          "data": {
            "text/html": [
              "\n",
              "  <style>\n",
              "    pre {\n",
              "        white-space: pre-wrap;\n",
              "    }\n",
              "  </style>\n",
              "  "
            ],
            "text/plain": [
              "<IPython.core.display.HTML object>"
            ]
          },
          "metadata": {
            "tags": []
          }
        },
        {
          "output_type": "execute_result",
          "data": {
            "text/plain": [
              "['Afghanistan',\n",
              " 'Angola',\n",
              " 'Burundi',\n",
              " 'Central African Republic',\n",
              " 'Colombia',\n",
              " 'Croatia',\n",
              " 'DR Congo (Zaire)',\n",
              " 'Georgia',\n",
              " 'Guinea-Bissau',\n",
              " 'Haiti',\n",
              " 'Iraq',\n",
              " 'Lebanon',\n",
              " 'Liberia',\n",
              " 'Macedonia, FYR',\n",
              " 'Mali',\n",
              " 'Myanmar (Burma)',\n",
              " 'Rwanda',\n",
              " 'Serbia (Yugoslavia)',\n",
              " 'Sierra Leone',\n",
              " 'Somalia',\n",
              " 'Sudan',\n",
              " 'Tajikistan',\n",
              " 'Uganda',\n",
              " 'Ukraine',\n",
              " 'Venezuela']"
            ]
          },
          "metadata": {
            "tags": []
          },
          "execution_count": 18
        }
      ]
    },
    {
      "cell_type": "markdown",
      "metadata": {
        "id": "k2sWynL2uIoG",
        "colab_type": "text"
      },
      "source": [
        "Clean the text columns:"
      ]
    },
    {
      "cell_type": "markdown",
      "metadata": {
        "id": "-Xy1DDXDKJMi",
        "colab_type": "text"
      },
      "source": [
        "Splitting into train and test set:"
      ]
    },
    {
      "cell_type": "code",
      "metadata": {
        "id": "3Hd0cs1YuD9A",
        "colab_type": "code",
        "colab": {
          "base_uri": "https://localhost:8080/",
          "height": 1000
        },
        "outputId": "fd9f1049-ec6d-47ef-f70d-2e017ab23078"
      },
      "source": [
        "from sklearn.model_selection import train_test_split\n",
        "\n",
        "for i in conflicts:\n",
        "    print(i)\n",
        "    k = str(i).lower()\n",
        "    train = d[k]\n",
        "    if train.shape[0] >= 5:\n",
        "      train = train.reindex(np.random.permutation(train.index))\n",
        "      \n",
        "      train, val = train_test_split(train, test_size = 0.2, random_state = 35)\n",
        "      new_key_train = k + '_train'\n",
        "      new_key_val = k + '_val'\n",
        "      d[new_key_train] = train\n",
        "      d[new_key_val] = val\n",
        "\n",
        "      d[new_key_train].reset_index(drop = True, inplace = True)\n",
        "      d[new_key_val].reset_index(drop = True, inplace = True)  \n",
        "\n",
        "      print(f\"Training Set Shape for {i}:\", d[new_key_train].shape)\n",
        "      print(f\"Validation Set Shape for {i}:\", d[new_key_val].shape)\n",
        "      print('\\n')\n",
        "    else:\n",
        "      #d.pop(k)\n",
        "      print(f'{i} is removed from the dictionary.')\n",
        "      print('\\n')\n",
        "      conflicts.remove(i)"
      ],
      "execution_count": 24,
      "outputs": [
        {
          "output_type": "display_data",
          "data": {
            "text/html": [
              "\n",
              "  <style>\n",
              "    pre {\n",
              "        white-space: pre-wrap;\n",
              "    }\n",
              "  </style>\n",
              "  "
            ],
            "text/plain": [
              "<IPython.core.display.HTML object>"
            ]
          },
          "metadata": {
            "tags": []
          }
        },
        {
          "output_type": "stream",
          "text": [
            "Afghanistan\n",
            "Training Set Shape for Afghanistan: (68, 2)\n",
            "Validation Set Shape for Afghanistan: (18, 2)\n",
            "\n",
            "\n",
            "Angola\n",
            "Training Set Shape for Angola: (24, 2)\n",
            "Validation Set Shape for Angola: (7, 2)\n",
            "\n",
            "\n",
            "Burundi\n",
            "Training Set Shape for Burundi: (41, 2)\n",
            "Validation Set Shape for Burundi: (11, 2)\n",
            "\n",
            "\n",
            "Central African Republic\n",
            "Training Set Shape for Central African Republic: (44, 2)\n",
            "Validation Set Shape for Central African Republic: (11, 2)\n",
            "\n",
            "\n",
            "Colombia\n",
            "Training Set Shape for Colombia: (13, 2)\n",
            "Validation Set Shape for Colombia: (4, 2)\n",
            "\n",
            "\n",
            "Croatia\n",
            "Training Set Shape for Croatia: (4, 2)\n",
            "Validation Set Shape for Croatia: (2, 2)\n",
            "\n",
            "\n",
            "DR Congo (Zaire)\n",
            "Training Set Shape for DR Congo (Zaire): (68, 2)\n",
            "Validation Set Shape for DR Congo (Zaire): (18, 2)\n",
            "\n",
            "\n",
            "Georgia\n",
            "Training Set Shape for Georgia: (12, 2)\n",
            "Validation Set Shape for Georgia: (3, 2)\n",
            "\n",
            "\n",
            "Guinea-Bissau\n",
            "Training Set Shape for Guinea-Bissau: (32, 2)\n",
            "Validation Set Shape for Guinea-Bissau: (9, 2)\n",
            "\n",
            "\n",
            "Haiti\n",
            "Training Set Shape for Haiti: (41, 2)\n",
            "Validation Set Shape for Haiti: (11, 2)\n",
            "\n",
            "\n",
            "Iraq\n",
            "Training Set Shape for Iraq: (57, 2)\n",
            "Validation Set Shape for Iraq: (15, 2)\n",
            "\n",
            "\n",
            "Liberia\n",
            "Training Set Shape for Liberia: (26, 2)\n",
            "Validation Set Shape for Liberia: (7, 2)\n",
            "\n",
            "\n",
            "Macedonia, FYR\n",
            "Training Set Shape for Macedonia, FYR: (6, 2)\n",
            "Validation Set Shape for Macedonia, FYR: (2, 2)\n",
            "\n",
            "\n",
            "Mali\n",
            "Training Set Shape for Mali: (29, 2)\n",
            "Validation Set Shape for Mali: (8, 2)\n",
            "\n",
            "\n",
            "Myanmar (Burma)\n",
            "Training Set Shape for Myanmar (Burma): (10, 2)\n",
            "Validation Set Shape for Myanmar (Burma): (3, 2)\n",
            "\n",
            "\n",
            "Rwanda\n",
            "Training Set Shape for Rwanda: (6, 2)\n",
            "Validation Set Shape for Rwanda: (2, 2)\n",
            "\n",
            "\n",
            "Sierra Leone\n",
            "Training Set Shape for Sierra Leone: (28, 2)\n",
            "Validation Set Shape for Sierra Leone: (8, 2)\n",
            "\n",
            "\n",
            "Somalia\n",
            "Training Set Shape for Somalia: (74, 2)\n",
            "Validation Set Shape for Somalia: (19, 2)\n",
            "\n",
            "\n",
            "Sudan\n",
            "Training Set Shape for Sudan: (149, 2)\n",
            "Validation Set Shape for Sudan: (38, 2)\n",
            "\n",
            "\n",
            "Tajikistan\n",
            "Training Set Shape for Tajikistan: (8, 2)\n",
            "Validation Set Shape for Tajikistan: (3, 2)\n",
            "\n",
            "\n",
            "Ukraine\n",
            "Training Set Shape for Ukraine: (28, 2)\n",
            "Validation Set Shape for Ukraine: (7, 2)\n",
            "\n",
            "\n"
          ],
          "name": "stdout"
        }
      ]
    },
    {
      "cell_type": "code",
      "metadata": {
        "id": "lJMwl57GOP-6",
        "colab_type": "code",
        "colab": {
          "base_uri": "https://localhost:8080/",
          "height": 601
        },
        "outputId": "7c96eafc-eca8-434c-bf93-5ae051160832"
      },
      "source": [
        "d['afghanistan_val']"
      ],
      "execution_count": 20,
      "outputs": [
        {
          "output_type": "display_data",
          "data": {
            "text/html": [
              "\n",
              "  <style>\n",
              "    pre {\n",
              "        white-space: pre-wrap;\n",
              "    }\n",
              "  </style>\n",
              "  "
            ],
            "text/plain": [
              "<IPython.core.display.HTML object>"
            ]
          },
          "metadata": {
            "tags": []
          }
        },
        {
          "output_type": "execute_result",
          "data": {
            "text/html": [
              "<div>\n",
              "<style scoped>\n",
              "    .dataframe tbody tr th:only-of-type {\n",
              "        vertical-align: middle;\n",
              "    }\n",
              "\n",
              "    .dataframe tbody tr th {\n",
              "        vertical-align: top;\n",
              "    }\n",
              "\n",
              "    .dataframe thead th {\n",
              "        text-align: right;\n",
              "    }\n",
              "</style>\n",
              "<table border=\"1\" class=\"dataframe\">\n",
              "  <thead>\n",
              "    <tr style=\"text-align: right;\">\n",
              "      <th></th>\n",
              "      <th>text</th>\n",
              "      <th>label</th>\n",
              "    </tr>\n",
              "  </thead>\n",
              "  <tbody>\n",
              "    <tr>\n",
              "      <th>0</th>\n",
              "      <td>i would like to thank france for its leadershi...</td>\n",
              "      <td>1</td>\n",
              "    </tr>\n",
              "    <tr>\n",
              "      <th>1</th>\n",
              "      <td>i wish, first of all, to warmly thank mr. gueh...</td>\n",
              "      <td>1</td>\n",
              "    </tr>\n",
              "    <tr>\n",
              "      <th>2</th>\n",
              "      <td>i was expecting to listen to mr. de mistura fi...</td>\n",
              "      <td>1</td>\n",
              "    </tr>\n",
              "    <tr>\n",
              "      <th>3</th>\n",
              "      <td>i would first like to begin by expressing my a...</td>\n",
              "      <td>1</td>\n",
              "    </tr>\n",
              "    <tr>\n",
              "      <th>4</th>\n",
              "      <td>i would like to thank you, mr. president, for ...</td>\n",
              "      <td>1</td>\n",
              "    </tr>\n",
              "    <tr>\n",
              "      <th>5</th>\n",
              "      <td>i congratulate angola on its successful leader...</td>\n",
              "      <td>1</td>\n",
              "    </tr>\n",
              "    <tr>\n",
              "      <th>6</th>\n",
              "      <td>at the outset, i would like to express the dee...</td>\n",
              "      <td>1</td>\n",
              "    </tr>\n",
              "    <tr>\n",
              "      <th>7</th>\n",
              "      <td>let me begin by congratulating the netherlands...</td>\n",
              "      <td>1</td>\n",
              "    </tr>\n",
              "    <tr>\n",
              "      <th>8</th>\n",
              "      <td>it is truly a pleasure to be among the members...</td>\n",
              "      <td>1</td>\n",
              "    </tr>\n",
              "    <tr>\n",
              "      <th>9</th>\n",
              "      <td>togo welcomes the adoption of resolution 2069 ...</td>\n",
              "      <td>1</td>\n",
              "    </tr>\n",
              "    <tr>\n",
              "      <th>10</th>\n",
              "      <td>i wish to thank you, mr. president, for your g...</td>\n",
              "      <td>1</td>\n",
              "    </tr>\n",
              "    <tr>\n",
              "      <th>11</th>\n",
              "      <td>i thank you, mr. president, and the other memb...</td>\n",
              "      <td>1</td>\n",
              "    </tr>\n",
              "    <tr>\n",
              "      <th>12</th>\n",
              "      <td>it is an honour to have the opportunity to add...</td>\n",
              "      <td>1</td>\n",
              "    </tr>\n",
              "    <tr>\n",
              "      <th>13</th>\n",
              "      <td>allow me at the outset, on behalf of the islam...</td>\n",
              "      <td>1</td>\n",
              "    </tr>\n",
              "    <tr>\n",
              "      <th>14</th>\n",
              "      <td>i thank special representative yamamoto and th...</td>\n",
              "      <td>1</td>\n",
              "    </tr>\n",
              "    <tr>\n",
              "      <th>15</th>\n",
              "      <td>mr. president, may i express our pleasure on s...</td>\n",
              "      <td>1</td>\n",
              "    </tr>\n",
              "    <tr>\n",
              "      <th>16</th>\n",
              "      <td>as the permanent representative of the lead co...</td>\n",
              "      <td>1</td>\n",
              "    </tr>\n",
              "    <tr>\n",
              "      <th>17</th>\n",
              "      <td>france welcomes the security councils unanimou...</td>\n",
              "      <td>1</td>\n",
              "    </tr>\n",
              "  </tbody>\n",
              "</table>\n",
              "</div>"
            ],
            "text/plain": [
              "                                                 text  label\n",
              "0   i would like to thank france for its leadershi...      1\n",
              "1   i wish, first of all, to warmly thank mr. gueh...      1\n",
              "2   i was expecting to listen to mr. de mistura fi...      1\n",
              "3   i would first like to begin by expressing my a...      1\n",
              "4   i would like to thank you, mr. president, for ...      1\n",
              "5   i congratulate angola on its successful leader...      1\n",
              "6   at the outset, i would like to express the dee...      1\n",
              "7   let me begin by congratulating the netherlands...      1\n",
              "8   it is truly a pleasure to be among the members...      1\n",
              "9   togo welcomes the adoption of resolution 2069 ...      1\n",
              "10  i wish to thank you, mr. president, for your g...      1\n",
              "11  i thank you, mr. president, and the other memb...      1\n",
              "12  it is an honour to have the opportunity to add...      1\n",
              "13  allow me at the outset, on behalf of the islam...      1\n",
              "14  i thank special representative yamamoto and th...      1\n",
              "15  mr. president, may i express our pleasure on s...      1\n",
              "16  as the permanent representative of the lead co...      1\n",
              "17  france welcomes the security councils unanimou...      1"
            ]
          },
          "metadata": {
            "tags": []
          },
          "execution_count": 20
        }
      ]
    },
    {
      "cell_type": "code",
      "metadata": {
        "id": "G1vfZjOSNbh5",
        "colab_type": "code",
        "colab": {
          "base_uri": "https://localhost:8080/",
          "height": 35
        },
        "outputId": "36ff18c0-27c4-4d35-9e11-9963ce1aebd1"
      },
      "source": [
        "DATA_COLUMN = 'text'\n",
        "LABEL_COLUMN = 'label'\n",
        "# The list containing all the classes (train['SECTION'].unique())\n",
        "#label_list = [x for x in np.unique(train.label)]\n",
        "label_list = [0, 1]\n",
        "label_list"
      ],
      "execution_count": 21,
      "outputs": [
        {
          "output_type": "display_data",
          "data": {
            "text/html": [
              "\n",
              "  <style>\n",
              "    pre {\n",
              "        white-space: pre-wrap;\n",
              "    }\n",
              "  </style>\n",
              "  "
            ],
            "text/plain": [
              "<IPython.core.display.HTML object>"
            ]
          },
          "metadata": {
            "tags": []
          }
        },
        {
          "output_type": "execute_result",
          "data": {
            "text/plain": [
              "[0, 1]"
            ]
          },
          "metadata": {
            "tags": []
          },
          "execution_count": 21
        }
      ]
    },
    {
      "cell_type": "markdown",
      "metadata": {
        "id": "I0d1J0I3PBqr",
        "colab_type": "text"
      },
      "source": [
        "Concatenating all the _train and _val dictionary entries into 2 full tables:"
      ]
    },
    {
      "cell_type": "code",
      "metadata": {
        "id": "_qXA3LcjPH8b",
        "colab_type": "code",
        "colab": {
          "base_uri": "https://localhost:8080/",
          "height": 225
        },
        "outputId": "e3d2bca5-7dc0-475c-ace9-2f167fc1f8de"
      },
      "source": [
        "#creating arrays of dataframe names\n",
        "keys_train = []\n",
        "keys_val = []\n",
        "for i in conflicts:\n",
        "  s_train = str(i).lower() + '_train'\n",
        "  keys_train = np.append(keys_train, s_train)\n",
        "  s_val = str(i).lower() + '_val'\n",
        "  keys_val = np.append(keys_val, s_val)\n",
        "\n",
        "print(keys_train)\n",
        "print(keys_val)"
      ],
      "execution_count": 22,
      "outputs": [
        {
          "output_type": "display_data",
          "data": {
            "text/html": [
              "\n",
              "  <style>\n",
              "    pre {\n",
              "        white-space: pre-wrap;\n",
              "    }\n",
              "  </style>\n",
              "  "
            ],
            "text/plain": [
              "<IPython.core.display.HTML object>"
            ]
          },
          "metadata": {
            "tags": []
          }
        },
        {
          "output_type": "stream",
          "text": [
            "['afghanistan_train' 'angola_train' 'burundi_train'\n",
            " 'central african republic_train' 'colombia_train' 'croatia_train'\n",
            " 'dr congo (zaire)_train' 'georgia_train' 'guinea-bissau_train'\n",
            " 'haiti_train' 'iraq_train' 'liberia_train' 'macedonia, fyr_train'\n",
            " 'mali_train' 'myanmar (burma)_train' 'rwanda_train' 'sierra leone_train'\n",
            " 'somalia_train' 'sudan_train' 'tajikistan_train' 'ukraine_train']\n",
            "['afghanistan_val' 'angola_val' 'burundi_val'\n",
            " 'central african republic_val' 'colombia_val' 'croatia_val'\n",
            " 'dr congo (zaire)_val' 'georgia_val' 'guinea-bissau_val' 'haiti_val'\n",
            " 'iraq_val' 'liberia_val' 'macedonia, fyr_val' 'mali_val'\n",
            " 'myanmar (burma)_val' 'rwanda_val' 'sierra leone_val' 'somalia_val'\n",
            " 'sudan_val' 'tajikistan_val' 'ukraine_val']\n"
          ],
          "name": "stdout"
        }
      ]
    },
    {
      "cell_type": "code",
      "metadata": {
        "id": "qKxxHTg5Rbkt",
        "colab_type": "code",
        "colab": {
          "base_uri": "https://localhost:8080/",
          "height": 17
        },
        "outputId": "73390fe7-e918-48a0-bf01-cdc278f239bc"
      },
      "source": [
        "frames_train = [d[k] for k in keys_train]\n",
        "frames_val = [d[k] for k in keys_val]\n",
        "train = pd.concat(frames_train)\n",
        "val = pd.concat(frames_val)"
      ],
      "execution_count": 25,
      "outputs": [
        {
          "output_type": "display_data",
          "data": {
            "text/html": [
              "\n",
              "  <style>\n",
              "    pre {\n",
              "        white-space: pre-wrap;\n",
              "    }\n",
              "  </style>\n",
              "  "
            ],
            "text/plain": [
              "<IPython.core.display.HTML object>"
            ]
          },
          "metadata": {
            "tags": []
          }
        }
      ]
    },
    {
      "cell_type": "code",
      "metadata": {
        "id": "BlS8_fnwaycl",
        "colab_type": "code",
        "colab": {
          "base_uri": "https://localhost:8080/",
          "height": 191
        },
        "outputId": "2c918731-0132-43fc-8702-a0ce29355ebc"
      },
      "source": [
        "print(train['text'].describe())\n",
        "print(val['text'].describe())"
      ],
      "execution_count": 31,
      "outputs": [
        {
          "output_type": "display_data",
          "data": {
            "text/html": [
              "\n",
              "  <style>\n",
              "    pre {\n",
              "        white-space: pre-wrap;\n",
              "    }\n",
              "  </style>\n",
              "  "
            ],
            "text/plain": [
              "<IPython.core.display.HTML object>"
            ]
          },
          "metadata": {
            "tags": []
          }
        },
        {
          "output_type": "stream",
          "text": [
            "count                                                   768\n",
            "unique                                                  768\n",
            "top       i should like to begin by thanking under-secre...\n",
            "freq                                                      1\n",
            "Name: text, dtype: object\n",
            "count                                                   206\n",
            "unique                                                  206\n",
            "top        mr. president, allow me at the outset, on beh...\n",
            "freq                                                      1\n",
            "Name: text, dtype: object\n"
          ],
          "name": "stdout"
        }
      ]
    },
    {
      "cell_type": "markdown",
      "metadata": {
        "id": "DcgRKNjQPR4u",
        "colab_type": "text"
      },
      "source": [
        "Splitting the data into smaller chunks:"
      ]
    },
    {
      "cell_type": "code",
      "metadata": {
        "id": "q0KjcGRtPUil",
        "colab_type": "code",
        "colab": {
          "base_uri": "https://localhost:8080/",
          "height": 17
        },
        "outputId": "685758b8-b4ab-41b2-fd89-11122883488b"
      },
      "source": [
        "def get_split(text1):\n",
        "  l_total = []\n",
        "  l_parcial = []\n",
        "  if len(text1.split())//150 >0:\n",
        "    n = len(text1.split())//150\n",
        "  else: \n",
        "    n = 1\n",
        "  for w in range(n):\n",
        "    if w == 0:\n",
        "      l_parcial = text1.split()[:200]\n",
        "      l_total.append(\" \".join(l_parcial))\n",
        "    else:\n",
        "      l_parcial = text1.split()[w*150:w*150 + 200]\n",
        "      l_total.append(\" \".join(l_parcial))\n",
        "  return l_total"
      ],
      "execution_count": 32,
      "outputs": [
        {
          "output_type": "display_data",
          "data": {
            "text/html": [
              "\n",
              "  <style>\n",
              "    pre {\n",
              "        white-space: pre-wrap;\n",
              "    }\n",
              "  </style>\n",
              "  "
            ],
            "text/plain": [
              "<IPython.core.display.HTML object>"
            ]
          },
          "metadata": {
            "tags": []
          }
        }
      ]
    },
    {
      "cell_type": "code",
      "metadata": {
        "id": "iXL_FV12yKoh",
        "colab_type": "code",
        "colab": {
          "base_uri": "https://localhost:8080/",
          "height": 202
        },
        "outputId": "59f7f1f8-45dd-4083-b662-4e49437d4cad"
      },
      "source": [
        "%%time\n",
        "train['text_split'] = train[DATA_COLUMN].apply(get_split)\n",
        "train.head()"
      ],
      "execution_count": 33,
      "outputs": [
        {
          "output_type": "display_data",
          "data": {
            "text/html": [
              "\n",
              "  <style>\n",
              "    pre {\n",
              "        white-space: pre-wrap;\n",
              "    }\n",
              "  </style>\n",
              "  "
            ],
            "text/plain": [
              "<IPython.core.display.HTML object>"
            ]
          },
          "metadata": {
            "tags": []
          }
        },
        {
          "output_type": "execute_result",
          "data": {
            "text/html": [
              "<div>\n",
              "<style scoped>\n",
              "    .dataframe tbody tr th:only-of-type {\n",
              "        vertical-align: middle;\n",
              "    }\n",
              "\n",
              "    .dataframe tbody tr th {\n",
              "        vertical-align: top;\n",
              "    }\n",
              "\n",
              "    .dataframe thead th {\n",
              "        text-align: right;\n",
              "    }\n",
              "</style>\n",
              "<table border=\"1\" class=\"dataframe\">\n",
              "  <thead>\n",
              "    <tr style=\"text-align: right;\">\n",
              "      <th></th>\n",
              "      <th>text</th>\n",
              "      <th>label</th>\n",
              "      <th>text_split</th>\n",
              "    </tr>\n",
              "  </thead>\n",
              "  <tbody>\n",
              "    <tr>\n",
              "      <th>0</th>\n",
              "      <td>i would like to thank under- secretary-general...</td>\n",
              "      <td>1</td>\n",
              "      <td>[i would like to thank under- secretary-genera...</td>\n",
              "    </tr>\n",
              "    <tr>\n",
              "      <th>1</th>\n",
              "      <td>i thank special representative yamamoto and th...</td>\n",
              "      <td>1</td>\n",
              "      <td>[i thank special representative yamamoto and t...</td>\n",
              "    </tr>\n",
              "    <tr>\n",
              "      <th>2</th>\n",
              "      <td>i would like to thank you, mr. president, for ...</td>\n",
              "      <td>1</td>\n",
              "      <td>[i would like to thank you, mr. president, for...</td>\n",
              "    </tr>\n",
              "    <tr>\n",
              "      <th>3</th>\n",
              "      <td>i would like to thank you, sir, for your leade...</td>\n",
              "      <td>1</td>\n",
              "      <td>[i would like to thank you, sir, for your lead...</td>\n",
              "    </tr>\n",
              "    <tr>\n",
              "      <th>4</th>\n",
              "      <td>france has just voted for the draft resolutio...</td>\n",
              "      <td>1</td>\n",
              "      <td>[france has just voted for the draft resolutio...</td>\n",
              "    </tr>\n",
              "  </tbody>\n",
              "</table>\n",
              "</div>"
            ],
            "text/plain": [
              "                                                text  ...                                         text_split\n",
              "0  i would like to thank under- secretary-general...  ...  [i would like to thank under- secretary-genera...\n",
              "1  i thank special representative yamamoto and th...  ...  [i thank special representative yamamoto and t...\n",
              "2  i would like to thank you, mr. president, for ...  ...  [i would like to thank you, mr. president, for...\n",
              "3  i would like to thank you, sir, for your leade...  ...  [i would like to thank you, sir, for your lead...\n",
              "4   france has just voted for the draft resolutio...  ...  [france has just voted for the draft resolutio...\n",
              "\n",
              "[5 rows x 3 columns]"
            ]
          },
          "metadata": {
            "tags": []
          },
          "execution_count": 33
        }
      ]
    },
    {
      "cell_type": "code",
      "metadata": {
        "id": "S7ZjYtPfy0wj",
        "colab_type": "code",
        "colab": {
          "base_uri": "https://localhost:8080/",
          "height": 110
        },
        "outputId": "0c28ba0d-fe40-4fe1-fbfa-d7ec7d231f35"
      },
      "source": [
        "%%time\n",
        "val['text_split'] = val[DATA_COLUMN].apply(get_split)\n",
        "val.head(2)"
      ],
      "execution_count": 34,
      "outputs": [
        {
          "output_type": "display_data",
          "data": {
            "text/html": [
              "\n",
              "  <style>\n",
              "    pre {\n",
              "        white-space: pre-wrap;\n",
              "    }\n",
              "  </style>\n",
              "  "
            ],
            "text/plain": [
              "<IPython.core.display.HTML object>"
            ]
          },
          "metadata": {
            "tags": []
          }
        },
        {
          "output_type": "execute_result",
          "data": {
            "text/html": [
              "<div>\n",
              "<style scoped>\n",
              "    .dataframe tbody tr th:only-of-type {\n",
              "        vertical-align: middle;\n",
              "    }\n",
              "\n",
              "    .dataframe tbody tr th {\n",
              "        vertical-align: top;\n",
              "    }\n",
              "\n",
              "    .dataframe thead th {\n",
              "        text-align: right;\n",
              "    }\n",
              "</style>\n",
              "<table border=\"1\" class=\"dataframe\">\n",
              "  <thead>\n",
              "    <tr style=\"text-align: right;\">\n",
              "      <th></th>\n",
              "      <th>text</th>\n",
              "      <th>label</th>\n",
              "      <th>text_split</th>\n",
              "    </tr>\n",
              "  </thead>\n",
              "  <tbody>\n",
              "    <tr>\n",
              "      <th>0</th>\n",
              "      <td>i have the honour to speak on behalf of the eu...</td>\n",
              "      <td>1</td>\n",
              "      <td>[i have the honour to speak on behalf of the e...</td>\n",
              "    </tr>\n",
              "    <tr>\n",
              "      <th>1</th>\n",
              "      <td>i have the honour to speak on behalf of the eu...</td>\n",
              "      <td>0</td>\n",
              "      <td>[i have the honour to speak on behalf of the e...</td>\n",
              "    </tr>\n",
              "  </tbody>\n",
              "</table>\n",
              "</div>"
            ],
            "text/plain": [
              "                                                text  ...                                         text_split\n",
              "0  i have the honour to speak on behalf of the eu...  ...  [i have the honour to speak on behalf of the e...\n",
              "1  i have the honour to speak on behalf of the eu...  ...  [i have the honour to speak on behalf of the e...\n",
              "\n",
              "[2 rows x 3 columns]"
            ]
          },
          "metadata": {
            "tags": []
          },
          "execution_count": 34
        }
      ]
    },
    {
      "cell_type": "code",
      "metadata": {
        "id": "xeBTI92Ay2G3",
        "colab_type": "code",
        "colab": {
          "base_uri": "https://localhost:8080/",
          "height": 35
        },
        "outputId": "a5767a03-b52f-44a5-9294-8fcd6d39d64f"
      },
      "source": [
        "train_l = []\n",
        "label_l = []\n",
        "index_l =[]\n",
        "for idx,row in train.iterrows():\n",
        "  for l in row['text_split']:\n",
        "    train_l.append(l)\n",
        "    label_l.append(row['label'])\n",
        "    index_l.append(idx)\n",
        "len(train_l), len(label_l), len(index_l)"
      ],
      "execution_count": 35,
      "outputs": [
        {
          "output_type": "display_data",
          "data": {
            "text/html": [
              "\n",
              "  <style>\n",
              "    pre {\n",
              "        white-space: pre-wrap;\n",
              "    }\n",
              "  </style>\n",
              "  "
            ],
            "text/plain": [
              "<IPython.core.display.HTML object>"
            ]
          },
          "metadata": {
            "tags": []
          }
        },
        {
          "output_type": "execute_result",
          "data": {
            "text/plain": [
              "(38313, 38313, 38313)"
            ]
          },
          "metadata": {
            "tags": []
          },
          "execution_count": 35
        }
      ]
    },
    {
      "cell_type": "code",
      "metadata": {
        "id": "UO0B4XuEy5o1",
        "colab_type": "code",
        "colab": {
          "base_uri": "https://localhost:8080/",
          "height": 35
        },
        "outputId": "31d1eab1-0e19-47be-9ee8-868ca6061227"
      },
      "source": [
        "val_l = []\n",
        "val_label_l = []\n",
        "val_index_l = []\n",
        "for idx,row in val.iterrows():\n",
        "  for l in row['text_split']:\n",
        "    val_l.append(l)\n",
        "    val_label_l.append(row['label'])\n",
        "    val_index_l.append(idx)\n",
        "len(val_l), len(val_label_l), len(val_index_l)"
      ],
      "execution_count": 36,
      "outputs": [
        {
          "output_type": "display_data",
          "data": {
            "text/html": [
              "\n",
              "  <style>\n",
              "    pre {\n",
              "        white-space: pre-wrap;\n",
              "    }\n",
              "  </style>\n",
              "  "
            ],
            "text/plain": [
              "<IPython.core.display.HTML object>"
            ]
          },
          "metadata": {
            "tags": []
          }
        },
        {
          "output_type": "execute_result",
          "data": {
            "text/plain": [
              "(9355, 9355, 9355)"
            ]
          },
          "metadata": {
            "tags": []
          },
          "execution_count": 36
        }
      ]
    },
    {
      "cell_type": "markdown",
      "metadata": {
        "id": "165SS5tMzEvE",
        "colab_type": "text"
      },
      "source": [
        "The final dataset for training:"
      ]
    },
    {
      "cell_type": "code",
      "metadata": {
        "id": "YzMYO7Buy_uA",
        "colab_type": "code",
        "colab": {
          "base_uri": "https://localhost:8080/",
          "height": 202
        },
        "outputId": "87679357-758e-42a8-db3d-fe894c4878d9"
      },
      "source": [
        "train_df = pd.DataFrame({DATA_COLUMN:train_l, LABEL_COLUMN:label_l})\n",
        "train_df.head()"
      ],
      "execution_count": 37,
      "outputs": [
        {
          "output_type": "display_data",
          "data": {
            "text/html": [
              "\n",
              "  <style>\n",
              "    pre {\n",
              "        white-space: pre-wrap;\n",
              "    }\n",
              "  </style>\n",
              "  "
            ],
            "text/plain": [
              "<IPython.core.display.HTML object>"
            ]
          },
          "metadata": {
            "tags": []
          }
        },
        {
          "output_type": "execute_result",
          "data": {
            "text/html": [
              "<div>\n",
              "<style scoped>\n",
              "    .dataframe tbody tr th:only-of-type {\n",
              "        vertical-align: middle;\n",
              "    }\n",
              "\n",
              "    .dataframe tbody tr th {\n",
              "        vertical-align: top;\n",
              "    }\n",
              "\n",
              "    .dataframe thead th {\n",
              "        text-align: right;\n",
              "    }\n",
              "</style>\n",
              "<table border=\"1\" class=\"dataframe\">\n",
              "  <thead>\n",
              "    <tr style=\"text-align: right;\">\n",
              "      <th></th>\n",
              "      <th>text</th>\n",
              "      <th>label</th>\n",
              "    </tr>\n",
              "  </thead>\n",
              "  <tbody>\n",
              "    <tr>\n",
              "      <th>0</th>\n",
              "      <td>i would like to thank under- secretary-general...</td>\n",
              "      <td>1</td>\n",
              "    </tr>\n",
              "    <tr>\n",
              "      <th>1</th>\n",
              "      <td>renewed commitment by the international commun...</td>\n",
              "      <td>1</td>\n",
              "    </tr>\n",
              "    <tr>\n",
              "      <th>2</th>\n",
              "      <td>not only on the holding of the elections, but ...</td>\n",
              "      <td>1</td>\n",
              "    </tr>\n",
              "    <tr>\n",
              "      <th>3</th>\n",
              "      <td>new prts will soon be operative, providing hel...</td>\n",
              "      <td>1</td>\n",
              "    </tr>\n",
              "    <tr>\n",
              "      <th>4</th>\n",
              "      <td>with tighter border controls and improved info...</td>\n",
              "      <td>1</td>\n",
              "    </tr>\n",
              "  </tbody>\n",
              "</table>\n",
              "</div>"
            ],
            "text/plain": [
              "                                                text  label\n",
              "0  i would like to thank under- secretary-general...      1\n",
              "1  renewed commitment by the international commun...      1\n",
              "2  not only on the holding of the elections, but ...      1\n",
              "3  new prts will soon be operative, providing hel...      1\n",
              "4  with tighter border controls and improved info...      1"
            ]
          },
          "metadata": {
            "tags": []
          },
          "execution_count": 37
        }
      ]
    },
    {
      "cell_type": "markdown",
      "metadata": {
        "id": "Aao09r_4zKF_",
        "colab_type": "text"
      },
      "source": [
        "And the final dataset for validation:"
      ]
    },
    {
      "cell_type": "code",
      "metadata": {
        "id": "joa1eENBzLxe",
        "colab_type": "code",
        "colab": {
          "base_uri": "https://localhost:8080/",
          "height": 202
        },
        "outputId": "bb88ac47-f14a-46eb-ff4d-11f170952346"
      },
      "source": [
        "val_df = pd.DataFrame({DATA_COLUMN:val_l, LABEL_COLUMN:val_label_l})\n",
        "val_df.head()"
      ],
      "execution_count": 38,
      "outputs": [
        {
          "output_type": "display_data",
          "data": {
            "text/html": [
              "\n",
              "  <style>\n",
              "    pre {\n",
              "        white-space: pre-wrap;\n",
              "    }\n",
              "  </style>\n",
              "  "
            ],
            "text/plain": [
              "<IPython.core.display.HTML object>"
            ]
          },
          "metadata": {
            "tags": []
          }
        },
        {
          "output_type": "execute_result",
          "data": {
            "text/html": [
              "<div>\n",
              "<style scoped>\n",
              "    .dataframe tbody tr th:only-of-type {\n",
              "        vertical-align: middle;\n",
              "    }\n",
              "\n",
              "    .dataframe tbody tr th {\n",
              "        vertical-align: top;\n",
              "    }\n",
              "\n",
              "    .dataframe thead th {\n",
              "        text-align: right;\n",
              "    }\n",
              "</style>\n",
              "<table border=\"1\" class=\"dataframe\">\n",
              "  <thead>\n",
              "    <tr style=\"text-align: right;\">\n",
              "      <th></th>\n",
              "      <th>text</th>\n",
              "      <th>label</th>\n",
              "    </tr>\n",
              "  </thead>\n",
              "  <tbody>\n",
              "    <tr>\n",
              "      <th>0</th>\n",
              "      <td>i have the honour to speak on behalf of the eu...</td>\n",
              "      <td>1</td>\n",
              "    </tr>\n",
              "    <tr>\n",
              "      <th>1</th>\n",
              "      <td>afghan people and adds to their misery, while ...</td>\n",
              "      <td>1</td>\n",
              "    </tr>\n",
              "    <tr>\n",
              "      <th>2</th>\n",
              "      <td>italian national and left a french national in...</td>\n",
              "      <td>1</td>\n",
              "    </tr>\n",
              "    <tr>\n",
              "      <th>3</th>\n",
              "      <td>on diplomatic relations and on consular relati...</td>\n",
              "      <td>1</td>\n",
              "    </tr>\n",
              "    <tr>\n",
              "      <th>4</th>\n",
              "      <td>to afghan factions, including involvement of f...</td>\n",
              "      <td>1</td>\n",
              "    </tr>\n",
              "  </tbody>\n",
              "</table>\n",
              "</div>"
            ],
            "text/plain": [
              "                                                text  label\n",
              "0  i have the honour to speak on behalf of the eu...      1\n",
              "1  afghan people and adds to their misery, while ...      1\n",
              "2  italian national and left a french national in...      1\n",
              "3  on diplomatic relations and on consular relati...      1\n",
              "4  to afghan factions, including involvement of f...      1"
            ]
          },
          "metadata": {
            "tags": []
          },
          "execution_count": 38
        }
      ]
    },
    {
      "cell_type": "markdown",
      "metadata": {
        "id": "Oys5oclt01jf",
        "colab_type": "text"
      },
      "source": [
        "Saving pre-processed datasets for training and validation:"
      ]
    },
    {
      "cell_type": "code",
      "metadata": {
        "id": "iKaVefCL04XF",
        "colab_type": "code",
        "colab": {
          "base_uri": "https://localhost:8080/",
          "height": 17
        },
        "outputId": "96aade92-a1f9-4f34-f55f-5639c432f5ac"
      },
      "source": [
        "import pickle\n",
        "\n",
        "#with open('/content/gdrive/My Drive/Colab files/bert_training_df_sudan', 'wb') as f:\n",
        "   #pickle.dump(train_df, f)\n",
        "\n",
        "#with open('/content/gdrive/My Drive/Colab files/bert_validation_df_sudan', 'wb') as f:\n",
        "   #pickle.dump(val_df, f)  \n",
        "\n",
        "with open('/content/gdrive/My Drive/Colab files/bert_training_df', 'wb') as f:\n",
        "   pickle.dump(train_df, f)\n",
        "\n",
        "with open('/content/gdrive/My Drive/Colab files/bert_validation_df', 'wb') as f:\n",
        "   pickle.dump(val_df, f)  \n",
        "\n",
        "with open('/content/gdrive/My Drive/Colab files/bert_train', 'wb') as f:\n",
        "   pickle.dump(train, f)\n",
        "\n",
        "with open('/content/gdrive/My Drive/Colab files/bert_val', 'wb') as f:\n",
        "   pickle.dump(val, f)  \n",
        "  "
      ],
      "execution_count": 40,
      "outputs": [
        {
          "output_type": "display_data",
          "data": {
            "text/html": [
              "\n",
              "  <style>\n",
              "    pre {\n",
              "        white-space: pre-wrap;\n",
              "    }\n",
              "  </style>\n",
              "  "
            ],
            "text/plain": [
              "<IPython.core.display.HTML object>"
            ]
          },
          "metadata": {
            "tags": []
          }
        }
      ]
    }
  ]
}